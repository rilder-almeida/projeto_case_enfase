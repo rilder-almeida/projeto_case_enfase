{
 "cells": [
  {
   "cell_type": "markdown",
   "id": "6d33a817",
   "metadata": {},
   "source": [
    "> ### Importando packages"
   ]
  },
  {
   "cell_type": "code",
   "execution_count": 1,
   "id": "94760cbb",
   "metadata": {},
   "outputs": [],
   "source": [
    "# import sys\n",
    "# !{sys.executable} -m pip install pandas\n",
    "# !{sys.executable} -m pip install pandera"
   ]
  },
  {
   "cell_type": "code",
   "execution_count": 2,
   "id": "94d02189",
   "metadata": {},
   "outputs": [],
   "source": [
    "import pandas as pd\n",
    "import pandera as pa # A Statistical Data Validation Toolkit for Pandas"
   ]
  },
  {
   "cell_type": "markdown",
   "id": "cd756d2c",
   "metadata": {},
   "source": [
    "> ### Lendo customers_dataset.csv"
   ]
  },
  {
   "cell_type": "code",
   "execution_count": 3,
   "id": "c8b50ea2",
   "metadata": {},
   "outputs": [],
   "source": [
    "usable_cols = ['customer_id', 'customer_city', 'customer_state'] # selecionando colunas 'usáveis'\n",
    "df_clientes = pd.read_csv(\"~/Jupyter/notebook/projects/case_enfase/data/customers_dataset.csv\", usecols=usable_cols)\n",
    "df_clientes.rename(columns={\"customer_id\":\"id_cliente\", \"customer_city\":\"cidade_cliente\", \"customer_state\":\"estado_cliente\"}, inplace=True) # renomeando para português"
   ]
  },
  {
   "cell_type": "markdown",
   "id": "ea6dcde2",
   "metadata": {},
   "source": [
    "> ### Buscando inconsistências customers_dataset.csv"
   ]
  },
  {
   "cell_type": "code",
   "execution_count": 4,
   "id": "f74dab64",
   "metadata": {},
   "outputs": [
    {
     "name": "stdout",
     "output_type": "stream",
     "text": [
      "<class 'pandas.core.frame.DataFrame'>\n",
      "RangeIndex: 99441 entries, 0 to 99440\n",
      "Data columns (total 3 columns):\n",
      " #   Column          Non-Null Count  Dtype \n",
      "---  ------          --------------  ----- \n",
      " 0   id_cliente      99441 non-null  object\n",
      " 1   cidade_cliente  99441 non-null  object\n",
      " 2   estado_cliente  99441 non-null  object\n",
      "dtypes: object(3)\n",
      "memory usage: 2.3+ MB\n"
     ]
    }
   ],
   "source": [
    "df_clientes.info(verbose=True)"
   ]
  },
  {
   "cell_type": "code",
   "execution_count": 5,
   "id": "7b82154b",
   "metadata": {},
   "outputs": [],
   "source": [
    "assert df_clientes.id_cliente.count() == df_clientes.id_cliente.nunique() # verificando a unicidade dos ids"
   ]
  },
  {
   "cell_type": "code",
   "execution_count": 6,
   "id": "0e144956",
   "metadata": {},
   "outputs": [
    {
     "data": {
      "text/plain": [
       "array(['SP', 'SC', 'MG', 'PR', 'RJ', 'RS', 'PA', 'GO', 'ES', 'BA', 'MA',\n",
       "       'MS', 'CE', 'DF', 'RN', 'PE', 'MT', 'AM', 'AP', 'AL', 'RO', 'PB',\n",
       "       'TO', 'PI', 'AC', 'SE', 'RR'], dtype=object)"
      ]
     },
     "execution_count": 6,
     "metadata": {},
     "output_type": "execute_result"
    }
   ],
   "source": [
    "df_clientes.estado_cliente.unique() # verificando a integridade dos estados"
   ]
  },
  {
   "cell_type": "code",
   "execution_count": 7,
   "id": "786ec924",
   "metadata": {},
   "outputs": [],
   "source": [
    "df_clientes.cidade_cliente = df_clientes.cidade_cliente.str.lower() # setando caixa baixa para cidades"
   ]
  },
  {
   "cell_type": "code",
   "execution_count": 8,
   "id": "5f8eb674",
   "metadata": {},
   "outputs": [
    {
     "data": {
      "text/plain": [
       "id_cliente        False\n",
       "cidade_cliente    False\n",
       "estado_cliente    False\n",
       "dtype: bool"
      ]
     },
     "execution_count": 8,
     "metadata": {},
     "output_type": "execute_result"
    }
   ],
   "source": [
    "df_clientes.isna().any() # verificando a nulidade dos dados"
   ]
  },
  {
   "cell_type": "markdown",
   "id": "70e9c8c3",
   "metadata": {},
   "source": [
    "> ### Trabalhando a tipagem dos dados customers_dataset.csv"
   ]
  },
  {
   "cell_type": "code",
   "execution_count": 9,
   "id": "5afa4fbd",
   "metadata": {},
   "outputs": [],
   "source": [
    "df_clientes = df_clientes.astype(str)"
   ]
  },
  {
   "cell_type": "code",
   "execution_count": 10,
   "id": "948d44ac",
   "metadata": {},
   "outputs": [
    {
     "data": {
      "text/plain": [
       "id_cliente        object\n",
       "cidade_cliente    object\n",
       "estado_cliente    object\n",
       "dtype: object"
      ]
     },
     "execution_count": 10,
     "metadata": {},
     "output_type": "execute_result"
    }
   ],
   "source": [
    "df_clientes.dtypes"
   ]
  },
  {
   "cell_type": "code",
   "execution_count": 11,
   "id": "c508649f",
   "metadata": {},
   "outputs": [],
   "source": [
    "# criando schema de validação com pandera\n",
    "schema_clientes = pa.DataFrameSchema(\n",
    "    columns={\n",
    "        \"id_cliente\": pa.Column(pa.String, nullable=False, required=True),\n",
    "        \"cidade_cliente\": pa.Column(pa.String, nullable=False, required=True),\n",
    "        \"estado_cliente\": pa.Column(pa.String, nullable=False, required=True, checks=[pa.Check.str_length(2,2)]),        \n",
    "    },\n",
    ")"
   ]
  },
  {
   "cell_type": "code",
   "execution_count": 12,
   "id": "c56190db",
   "metadata": {},
   "outputs": [
    {
     "data": {
      "text/html": [
       "<div>\n",
       "<style scoped>\n",
       "    .dataframe tbody tr th:only-of-type {\n",
       "        vertical-align: middle;\n",
       "    }\n",
       "\n",
       "    .dataframe tbody tr th {\n",
       "        vertical-align: top;\n",
       "    }\n",
       "\n",
       "    .dataframe thead th {\n",
       "        text-align: right;\n",
       "    }\n",
       "</style>\n",
       "<table border=\"1\" class=\"dataframe\">\n",
       "  <thead>\n",
       "    <tr style=\"text-align: right;\">\n",
       "      <th></th>\n",
       "      <th>id_cliente</th>\n",
       "      <th>cidade_cliente</th>\n",
       "      <th>estado_cliente</th>\n",
       "    </tr>\n",
       "  </thead>\n",
       "  <tbody>\n",
       "    <tr>\n",
       "      <th>0</th>\n",
       "      <td>06b8999e2fba1a1fbc88172c00ba8bc7</td>\n",
       "      <td>franca</td>\n",
       "      <td>SP</td>\n",
       "    </tr>\n",
       "    <tr>\n",
       "      <th>1</th>\n",
       "      <td>18955e83d337fd6b2def6b18a428ac77</td>\n",
       "      <td>sao bernardo do campo</td>\n",
       "      <td>SP</td>\n",
       "    </tr>\n",
       "    <tr>\n",
       "      <th>2</th>\n",
       "      <td>4e7b3e00288586ebd08712fdd0374a03</td>\n",
       "      <td>sao paulo</td>\n",
       "      <td>SP</td>\n",
       "    </tr>\n",
       "    <tr>\n",
       "      <th>3</th>\n",
       "      <td>b2b6027bc5c5109e529d4dc6358b12c3</td>\n",
       "      <td>mogi das cruzes</td>\n",
       "      <td>SP</td>\n",
       "    </tr>\n",
       "    <tr>\n",
       "      <th>4</th>\n",
       "      <td>4f2d8ab171c80ec8364f7c12e35b23ad</td>\n",
       "      <td>campinas</td>\n",
       "      <td>SP</td>\n",
       "    </tr>\n",
       "    <tr>\n",
       "      <th>...</th>\n",
       "      <td>...</td>\n",
       "      <td>...</td>\n",
       "      <td>...</td>\n",
       "    </tr>\n",
       "    <tr>\n",
       "      <th>99436</th>\n",
       "      <td>17ddf5dd5d51696bb3d7c6291687be6f</td>\n",
       "      <td>sao paulo</td>\n",
       "      <td>SP</td>\n",
       "    </tr>\n",
       "    <tr>\n",
       "      <th>99437</th>\n",
       "      <td>e7b71a9017aa05c9a7fd292d714858e8</td>\n",
       "      <td>taboao da serra</td>\n",
       "      <td>SP</td>\n",
       "    </tr>\n",
       "    <tr>\n",
       "      <th>99438</th>\n",
       "      <td>5e28dfe12db7fb50a4b2f691faecea5e</td>\n",
       "      <td>fortaleza</td>\n",
       "      <td>CE</td>\n",
       "    </tr>\n",
       "    <tr>\n",
       "      <th>99439</th>\n",
       "      <td>56b18e2166679b8a959d72dd06da27f9</td>\n",
       "      <td>canoas</td>\n",
       "      <td>RS</td>\n",
       "    </tr>\n",
       "    <tr>\n",
       "      <th>99440</th>\n",
       "      <td>274fa6071e5e17fe303b9748641082c8</td>\n",
       "      <td>cotia</td>\n",
       "      <td>SP</td>\n",
       "    </tr>\n",
       "  </tbody>\n",
       "</table>\n",
       "<p>99441 rows × 3 columns</p>\n",
       "</div>"
      ],
      "text/plain": [
       "                             id_cliente         cidade_cliente estado_cliente\n",
       "0      06b8999e2fba1a1fbc88172c00ba8bc7                 franca             SP\n",
       "1      18955e83d337fd6b2def6b18a428ac77  sao bernardo do campo             SP\n",
       "2      4e7b3e00288586ebd08712fdd0374a03              sao paulo             SP\n",
       "3      b2b6027bc5c5109e529d4dc6358b12c3        mogi das cruzes             SP\n",
       "4      4f2d8ab171c80ec8364f7c12e35b23ad               campinas             SP\n",
       "...                                 ...                    ...            ...\n",
       "99436  17ddf5dd5d51696bb3d7c6291687be6f              sao paulo             SP\n",
       "99437  e7b71a9017aa05c9a7fd292d714858e8        taboao da serra             SP\n",
       "99438  5e28dfe12db7fb50a4b2f691faecea5e              fortaleza             CE\n",
       "99439  56b18e2166679b8a959d72dd06da27f9                 canoas             RS\n",
       "99440  274fa6071e5e17fe303b9748641082c8                  cotia             SP\n",
       "\n",
       "[99441 rows x 3 columns]"
      ]
     },
     "execution_count": 12,
     "metadata": {},
     "output_type": "execute_result"
    }
   ],
   "source": [
    "schema_clientes.validate(df_clientes) # validando schema_clientes"
   ]
  },
  {
   "cell_type": "markdown",
   "id": "7a1d99e2",
   "metadata": {},
   "source": [
    "> ### Exportando para clean_customers_dataset.csv"
   ]
  },
  {
   "cell_type": "code",
   "execution_count": 13,
   "id": "133bda5f",
   "metadata": {},
   "outputs": [],
   "source": [
    "df_clientes.to_csv(r'~/Jupyter/notebook/projects/case_enfase/data/clean_customers_dataset.csv', index = False, header=True)"
   ]
  }
 ],
 "metadata": {
  "kernelspec": {
   "display_name": "Python 3 (ipykernel)",
   "language": "python",
   "name": "python3"
  },
  "language_info": {
   "codemirror_mode": {
    "name": "ipython",
    "version": 3
   },
   "file_extension": ".py",
   "mimetype": "text/x-python",
   "name": "python",
   "nbconvert_exporter": "python",
   "pygments_lexer": "ipython3",
   "version": "3.8.10"
  }
 },
 "nbformat": 4,
 "nbformat_minor": 5
}
