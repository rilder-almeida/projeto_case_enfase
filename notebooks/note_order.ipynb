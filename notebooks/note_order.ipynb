{
 "cells": [
  {
   "cell_type": "markdown",
   "source": [
    "> ### Importando packages"
   ],
   "metadata": {}
  },
  {
   "cell_type": "code",
   "execution_count": 3,
   "source": [
    "# import sys\n",
    "# !{sys.executable} -m pip install pandas\n",
    "# !{sys.executable} -m pip install pandera\n",
    "# !{sys.executable} -m pip install beeprint"
   ],
   "outputs": [],
   "metadata": {}
  },
  {
   "cell_type": "code",
   "execution_count": 4,
   "source": [
    "import pandas as pd\n",
    "import pandera as pa # Statistical Data Validation Toolkit for Pandas"
   ],
   "outputs": [],
   "metadata": {}
  },
  {
   "cell_type": "markdown",
   "source": [
    "> ### Lendo order_dataset.csv"
   ],
   "metadata": {}
  },
  {
   "cell_type": "code",
   "execution_count": 5,
   "source": [
    "df_pedidos = pd.read_csv('../data/orders_dataset.csv')\n",
    "df_pedidos.rename(columns={'order_id':'id_pedido','customer_id':'id_cliente','order_status':'status_pedido','order_purchase_timestamp':'data_hora_compra','order_approved_at':'data_hora_aprovacao','order_delivered_carrier_date':'data_hora_envio','order_delivered_customer_date':'data_hora_entrega','order_estimated_delivery_date':'data_hora_previsao_entrega'}, inplace=True) # renomeando para português"
   ],
   "outputs": [],
   "metadata": {}
  },
  {
   "cell_type": "markdown",
   "source": [
    "> ### Buscando inconsistências orders_dataset.csv"
   ],
   "metadata": {}
  },
  {
   "cell_type": "code",
   "execution_count": 6,
   "source": [
    "df_pedidos.info(verbose=True)"
   ],
   "outputs": [
    {
     "output_type": "stream",
     "name": "stdout",
     "text": [
      "<class 'pandas.core.frame.DataFrame'>\n",
      "RangeIndex: 99441 entries, 0 to 99440\n",
      "Data columns (total 8 columns):\n",
      " #   Column                      Non-Null Count  Dtype \n",
      "---  ------                      --------------  ----- \n",
      " 0   id_pedido                   99441 non-null  object\n",
      " 1   id_cliente                  99441 non-null  object\n",
      " 2   status_pedido               99441 non-null  object\n",
      " 3   data_hora_compra            99441 non-null  object\n",
      " 4   data_hora_aprovacao         99281 non-null  object\n",
      " 5   data_hora_envio             97658 non-null  object\n",
      " 6   data_hora_entrega           96476 non-null  object\n",
      " 7   data_hora_previsao_entrega  99441 non-null  object\n",
      "dtypes: object(8)\n",
      "memory usage: 6.1+ MB\n"
     ]
    }
   ],
   "metadata": {}
  },
  {
   "cell_type": "code",
   "execution_count": 7,
   "source": [
    "df_pedidos.drop_duplicates(inplace=True) \n",
    "# dropando id_pedido duplicados"
   ],
   "outputs": [],
   "metadata": {}
  },
  {
   "cell_type": "code",
   "execution_count": 8,
   "source": [
    "df_pedidos.info(verbose=True)"
   ],
   "outputs": [
    {
     "output_type": "stream",
     "name": "stdout",
     "text": [
      "<class 'pandas.core.frame.DataFrame'>\n",
      "Int64Index: 99441 entries, 0 to 99440\n",
      "Data columns (total 8 columns):\n",
      " #   Column                      Non-Null Count  Dtype \n",
      "---  ------                      --------------  ----- \n",
      " 0   id_pedido                   99441 non-null  object\n",
      " 1   id_cliente                  99441 non-null  object\n",
      " 2   status_pedido               99441 non-null  object\n",
      " 3   data_hora_compra            99441 non-null  object\n",
      " 4   data_hora_aprovacao         99281 non-null  object\n",
      " 5   data_hora_envio             97658 non-null  object\n",
      " 6   data_hora_entrega           96476 non-null  object\n",
      " 7   data_hora_previsao_entrega  99441 non-null  object\n",
      "dtypes: object(8)\n",
      "memory usage: 6.8+ MB\n"
     ]
    }
   ],
   "metadata": {}
  },
  {
   "cell_type": "code",
   "execution_count": 9,
   "source": [
    "assert df_pedidos.id_pedido.count() == df_pedidos.id_pedido.nunique() # verificando a unicidade dos ids"
   ],
   "outputs": [],
   "metadata": {}
  },
  {
   "cell_type": "code",
   "execution_count": 10,
   "source": [
    "df_pedidos.isna().any() # verificando a nulidade dos dados"
   ],
   "outputs": [
    {
     "output_type": "execute_result",
     "data": {
      "text/plain": [
       "id_pedido                     False\n",
       "id_cliente                    False\n",
       "status_pedido                 False\n",
       "data_hora_compra              False\n",
       "data_hora_aprovacao            True\n",
       "data_hora_envio                True\n",
       "data_hora_entrega              True\n",
       "data_hora_previsao_entrega    False\n",
       "dtype: bool"
      ]
     },
     "metadata": {},
     "execution_count": 10
    }
   ],
   "metadata": {}
  },
  {
   "cell_type": "markdown",
   "source": [
    "> ### Trabalhando a tipagem dos dados orders_dataset.csv"
   ],
   "metadata": {}
  },
  {
   "cell_type": "code",
   "execution_count": 11,
   "source": [
    "df_pedidos.dtypes"
   ],
   "outputs": [
    {
     "output_type": "execute_result",
     "data": {
      "text/plain": [
       "id_pedido                     object\n",
       "id_cliente                    object\n",
       "status_pedido                 object\n",
       "data_hora_compra              object\n",
       "data_hora_aprovacao           object\n",
       "data_hora_envio               object\n",
       "data_hora_entrega             object\n",
       "data_hora_previsao_entrega    object\n",
       "dtype: object"
      ]
     },
     "metadata": {},
     "execution_count": 11
    }
   ],
   "metadata": {}
  },
  {
   "cell_type": "code",
   "execution_count": 12,
   "source": [
    "df_pedidos.status_pedido.unique() # verificando tipos de status de pedido"
   ],
   "outputs": [
    {
     "output_type": "execute_result",
     "data": {
      "text/plain": [
       "array(['delivered', 'invoiced', 'shipped', 'processing', 'unavailable',\n",
       "       'canceled', 'created', 'approved'], dtype=object)"
      ]
     },
     "metadata": {},
     "execution_count": 12
    }
   ],
   "metadata": {}
  },
  {
   "cell_type": "code",
   "execution_count": 13,
   "source": [
    "df_pedidos.replace(['unavailable', 'canceled', ''], pd.NA, inplace=True)\n",
    "df_pedidos.dropna(inplace=True) # dropando dados unavailable, canceled e vazios, deixando apenas os produtos entregues\n",
    "df_pedidos.isna().any()"
   ],
   "outputs": [
    {
     "output_type": "execute_result",
     "data": {
      "text/plain": [
       "id_pedido                     False\n",
       "id_cliente                    False\n",
       "status_pedido                 False\n",
       "data_hora_compra              False\n",
       "data_hora_aprovacao           False\n",
       "data_hora_envio               False\n",
       "data_hora_entrega             False\n",
       "data_hora_previsao_entrega    False\n",
       "dtype: bool"
      ]
     },
     "metadata": {},
     "execution_count": 13
    }
   ],
   "metadata": {}
  },
  {
   "cell_type": "code",
   "execution_count": 14,
   "source": [
    "df_pedidos.info(verbose=True)"
   ],
   "outputs": [
    {
     "output_type": "stream",
     "name": "stdout",
     "text": [
      "<class 'pandas.core.frame.DataFrame'>\n",
      "Int64Index: 96455 entries, 0 to 99440\n",
      "Data columns (total 8 columns):\n",
      " #   Column                      Non-Null Count  Dtype \n",
      "---  ------                      --------------  ----- \n",
      " 0   id_pedido                   96455 non-null  object\n",
      " 1   id_cliente                  96455 non-null  object\n",
      " 2   status_pedido               96455 non-null  object\n",
      " 3   data_hora_compra            96455 non-null  object\n",
      " 4   data_hora_aprovacao         96455 non-null  object\n",
      " 5   data_hora_envio             96455 non-null  object\n",
      " 6   data_hora_entrega           96455 non-null  object\n",
      " 7   data_hora_previsao_entrega  96455 non-null  object\n",
      "dtypes: object(8)\n",
      "memory usage: 6.6+ MB\n"
     ]
    }
   ],
   "metadata": {}
  },
  {
   "cell_type": "code",
   "execution_count": 15,
   "source": [
    "df_pedidos.status_pedido.unique()"
   ],
   "outputs": [
    {
     "output_type": "execute_result",
     "data": {
      "text/plain": [
       "array(['delivered'], dtype=object)"
      ]
     },
     "metadata": {},
     "execution_count": 15
    }
   ],
   "metadata": {}
  },
  {
   "cell_type": "code",
   "execution_count": 16,
   "source": [
    "# convertendo datas de string para datetime\n",
    "df_pedidos['data_hora_compra'] = pd.to_datetime(df_pedidos['data_hora_compra'], format='%Y-%m-%d %H:%M:%S') \n",
    "df_pedidos['data_hora_aprovacao'] = pd.to_datetime(df_pedidos['data_hora_aprovacao'], format='%Y-%m-%d %H:%M:%S') \n",
    "df_pedidos['data_hora_entrega'] = pd.to_datetime(df_pedidos['data_hora_entrega'], format='%Y-%m-%d %H:%M:%S') \n",
    "df_pedidos['data_hora_envio'] = pd.to_datetime(df_pedidos['data_hora_envio'], format='%Y-%m-%d %H:%M:%S') \n",
    "df_pedidos['data_hora_previsao_entrega'] = pd.to_datetime(df_pedidos['data_hora_previsao_entrega'], format='%Y-%m-%d %H:%M:%S') "
   ],
   "outputs": [],
   "metadata": {}
  },
  {
   "cell_type": "code",
   "execution_count": 17,
   "source": [
    "# criando schema de validação com pandera\n",
    "schema_pedidos = pa.DataFrameSchema(\n",
    "    columns={\n",
    "        \"id_pedido\": pa.Column(pa.String, nullable=False, required=True),\n",
    "        \"id_cliente\": pa.Column(pa.String, nullable=False, required=True),\n",
    "        \"status_pedido\": pa.Column(pa.String, pa.Check.isin(['delivered']), nullable=False, required=True),\n",
    "        \"data_hora_compra\": pa.Column(pa.DateTime, nullable=False, required=True),\n",
    "        \"data_hora_aprovacao\": pa.Column(pa.DateTime, nullable=False, required=True),\n",
    "        \"data_hora_entrega\": pa.Column(pa.DateTime, nullable=False, required=True),\n",
    "        \"data_hora_envio\": pa.Column(pa.DateTime, nullable=False, required=True),\n",
    "        \"data_hora_previsao_entrega\": pa.Column(pa.DateTime, nullable=False, required=True),      \n",
    "    },\n",
    ")"
   ],
   "outputs": [],
   "metadata": {}
  },
  {
   "cell_type": "code",
   "execution_count": 18,
   "source": [
    "schema_pedidos.validate(df_pedidos) # validando schema_itens_pedidos"
   ],
   "outputs": [
    {
     "output_type": "execute_result",
     "data": {
      "text/html": [
       "<div>\n",
       "<style scoped>\n",
       "    .dataframe tbody tr th:only-of-type {\n",
       "        vertical-align: middle;\n",
       "    }\n",
       "\n",
       "    .dataframe tbody tr th {\n",
       "        vertical-align: top;\n",
       "    }\n",
       "\n",
       "    .dataframe thead th {\n",
       "        text-align: right;\n",
       "    }\n",
       "</style>\n",
       "<table border=\"1\" class=\"dataframe\">\n",
       "  <thead>\n",
       "    <tr style=\"text-align: right;\">\n",
       "      <th></th>\n",
       "      <th>id_pedido</th>\n",
       "      <th>id_cliente</th>\n",
       "      <th>status_pedido</th>\n",
       "      <th>data_hora_compra</th>\n",
       "      <th>data_hora_aprovacao</th>\n",
       "      <th>data_hora_envio</th>\n",
       "      <th>data_hora_entrega</th>\n",
       "      <th>data_hora_previsao_entrega</th>\n",
       "    </tr>\n",
       "  </thead>\n",
       "  <tbody>\n",
       "    <tr>\n",
       "      <th>0</th>\n",
       "      <td>e481f51cbdc54678b7cc49136f2d6af7</td>\n",
       "      <td>9ef432eb6251297304e76186b10a928d</td>\n",
       "      <td>delivered</td>\n",
       "      <td>2017-10-02 10:56:33</td>\n",
       "      <td>2017-10-02 11:07:15</td>\n",
       "      <td>2017-10-04 19:55:00</td>\n",
       "      <td>2017-10-10 21:25:13</td>\n",
       "      <td>2017-10-18</td>\n",
       "    </tr>\n",
       "    <tr>\n",
       "      <th>1</th>\n",
       "      <td>53cdb2fc8bc7dce0b6741e2150273451</td>\n",
       "      <td>b0830fb4747a6c6d20dea0b8c802d7ef</td>\n",
       "      <td>delivered</td>\n",
       "      <td>2018-07-24 20:41:37</td>\n",
       "      <td>2018-07-26 03:24:27</td>\n",
       "      <td>2018-07-26 14:31:00</td>\n",
       "      <td>2018-08-07 15:27:45</td>\n",
       "      <td>2018-08-13</td>\n",
       "    </tr>\n",
       "    <tr>\n",
       "      <th>2</th>\n",
       "      <td>47770eb9100c2d0c44946d9cf07ec65d</td>\n",
       "      <td>41ce2a54c0b03bf3443c3d931a367089</td>\n",
       "      <td>delivered</td>\n",
       "      <td>2018-08-08 08:38:49</td>\n",
       "      <td>2018-08-08 08:55:23</td>\n",
       "      <td>2018-08-08 13:50:00</td>\n",
       "      <td>2018-08-17 18:06:29</td>\n",
       "      <td>2018-09-04</td>\n",
       "    </tr>\n",
       "    <tr>\n",
       "      <th>3</th>\n",
       "      <td>949d5b44dbf5de918fe9c16f97b45f8a</td>\n",
       "      <td>f88197465ea7920adcdbec7375364d82</td>\n",
       "      <td>delivered</td>\n",
       "      <td>2017-11-18 19:28:06</td>\n",
       "      <td>2017-11-18 19:45:59</td>\n",
       "      <td>2017-11-22 13:39:59</td>\n",
       "      <td>2017-12-02 00:28:42</td>\n",
       "      <td>2017-12-15</td>\n",
       "    </tr>\n",
       "    <tr>\n",
       "      <th>4</th>\n",
       "      <td>ad21c59c0840e6cb83a9ceb5573f8159</td>\n",
       "      <td>8ab97904e6daea8866dbdbc4fb7aad2c</td>\n",
       "      <td>delivered</td>\n",
       "      <td>2018-02-13 21:18:39</td>\n",
       "      <td>2018-02-13 22:20:29</td>\n",
       "      <td>2018-02-14 19:46:34</td>\n",
       "      <td>2018-02-16 18:17:02</td>\n",
       "      <td>2018-02-26</td>\n",
       "    </tr>\n",
       "    <tr>\n",
       "      <th>...</th>\n",
       "      <td>...</td>\n",
       "      <td>...</td>\n",
       "      <td>...</td>\n",
       "      <td>...</td>\n",
       "      <td>...</td>\n",
       "      <td>...</td>\n",
       "      <td>...</td>\n",
       "      <td>...</td>\n",
       "    </tr>\n",
       "    <tr>\n",
       "      <th>99436</th>\n",
       "      <td>9c5dedf39a927c1b2549525ed64a053c</td>\n",
       "      <td>39bd1228ee8140590ac3aca26f2dfe00</td>\n",
       "      <td>delivered</td>\n",
       "      <td>2017-03-09 09:54:05</td>\n",
       "      <td>2017-03-09 09:54:05</td>\n",
       "      <td>2017-03-10 11:18:03</td>\n",
       "      <td>2017-03-17 15:08:01</td>\n",
       "      <td>2017-03-28</td>\n",
       "    </tr>\n",
       "    <tr>\n",
       "      <th>99437</th>\n",
       "      <td>63943bddc261676b46f01ca7ac2f7bd8</td>\n",
       "      <td>1fca14ff2861355f6e5f14306ff977a7</td>\n",
       "      <td>delivered</td>\n",
       "      <td>2018-02-06 12:58:58</td>\n",
       "      <td>2018-02-06 13:10:37</td>\n",
       "      <td>2018-02-07 23:22:42</td>\n",
       "      <td>2018-02-28 17:37:56</td>\n",
       "      <td>2018-03-02</td>\n",
       "    </tr>\n",
       "    <tr>\n",
       "      <th>99438</th>\n",
       "      <td>83c1379a015df1e13d02aae0204711ab</td>\n",
       "      <td>1aa71eb042121263aafbe80c1b562c9c</td>\n",
       "      <td>delivered</td>\n",
       "      <td>2017-08-27 14:46:43</td>\n",
       "      <td>2017-08-27 15:04:16</td>\n",
       "      <td>2017-08-28 20:52:26</td>\n",
       "      <td>2017-09-21 11:24:17</td>\n",
       "      <td>2017-09-27</td>\n",
       "    </tr>\n",
       "    <tr>\n",
       "      <th>99439</th>\n",
       "      <td>11c177c8e97725db2631073c19f07b62</td>\n",
       "      <td>b331b74b18dc79bcdf6532d51e1637c1</td>\n",
       "      <td>delivered</td>\n",
       "      <td>2018-01-08 21:28:27</td>\n",
       "      <td>2018-01-08 21:36:21</td>\n",
       "      <td>2018-01-12 15:35:03</td>\n",
       "      <td>2018-01-25 23:32:54</td>\n",
       "      <td>2018-02-15</td>\n",
       "    </tr>\n",
       "    <tr>\n",
       "      <th>99440</th>\n",
       "      <td>66dea50a8b16d9b4dee7af250b4be1a5</td>\n",
       "      <td>edb027a75a1449115f6b43211ae02a24</td>\n",
       "      <td>delivered</td>\n",
       "      <td>2018-03-08 20:57:30</td>\n",
       "      <td>2018-03-09 11:20:28</td>\n",
       "      <td>2018-03-09 22:11:59</td>\n",
       "      <td>2018-03-16 13:08:30</td>\n",
       "      <td>2018-04-03</td>\n",
       "    </tr>\n",
       "  </tbody>\n",
       "</table>\n",
       "<p>96455 rows × 8 columns</p>\n",
       "</div>"
      ],
      "text/plain": [
       "                              id_pedido                        id_cliente  \\\n",
       "0      e481f51cbdc54678b7cc49136f2d6af7  9ef432eb6251297304e76186b10a928d   \n",
       "1      53cdb2fc8bc7dce0b6741e2150273451  b0830fb4747a6c6d20dea0b8c802d7ef   \n",
       "2      47770eb9100c2d0c44946d9cf07ec65d  41ce2a54c0b03bf3443c3d931a367089   \n",
       "3      949d5b44dbf5de918fe9c16f97b45f8a  f88197465ea7920adcdbec7375364d82   \n",
       "4      ad21c59c0840e6cb83a9ceb5573f8159  8ab97904e6daea8866dbdbc4fb7aad2c   \n",
       "...                                 ...                               ...   \n",
       "99436  9c5dedf39a927c1b2549525ed64a053c  39bd1228ee8140590ac3aca26f2dfe00   \n",
       "99437  63943bddc261676b46f01ca7ac2f7bd8  1fca14ff2861355f6e5f14306ff977a7   \n",
       "99438  83c1379a015df1e13d02aae0204711ab  1aa71eb042121263aafbe80c1b562c9c   \n",
       "99439  11c177c8e97725db2631073c19f07b62  b331b74b18dc79bcdf6532d51e1637c1   \n",
       "99440  66dea50a8b16d9b4dee7af250b4be1a5  edb027a75a1449115f6b43211ae02a24   \n",
       "\n",
       "      status_pedido    data_hora_compra data_hora_aprovacao  \\\n",
       "0         delivered 2017-10-02 10:56:33 2017-10-02 11:07:15   \n",
       "1         delivered 2018-07-24 20:41:37 2018-07-26 03:24:27   \n",
       "2         delivered 2018-08-08 08:38:49 2018-08-08 08:55:23   \n",
       "3         delivered 2017-11-18 19:28:06 2017-11-18 19:45:59   \n",
       "4         delivered 2018-02-13 21:18:39 2018-02-13 22:20:29   \n",
       "...             ...                 ...                 ...   \n",
       "99436     delivered 2017-03-09 09:54:05 2017-03-09 09:54:05   \n",
       "99437     delivered 2018-02-06 12:58:58 2018-02-06 13:10:37   \n",
       "99438     delivered 2017-08-27 14:46:43 2017-08-27 15:04:16   \n",
       "99439     delivered 2018-01-08 21:28:27 2018-01-08 21:36:21   \n",
       "99440     delivered 2018-03-08 20:57:30 2018-03-09 11:20:28   \n",
       "\n",
       "          data_hora_envio   data_hora_entrega data_hora_previsao_entrega  \n",
       "0     2017-10-04 19:55:00 2017-10-10 21:25:13                 2017-10-18  \n",
       "1     2018-07-26 14:31:00 2018-08-07 15:27:45                 2018-08-13  \n",
       "2     2018-08-08 13:50:00 2018-08-17 18:06:29                 2018-09-04  \n",
       "3     2017-11-22 13:39:59 2017-12-02 00:28:42                 2017-12-15  \n",
       "4     2018-02-14 19:46:34 2018-02-16 18:17:02                 2018-02-26  \n",
       "...                   ...                 ...                        ...  \n",
       "99436 2017-03-10 11:18:03 2017-03-17 15:08:01                 2017-03-28  \n",
       "99437 2018-02-07 23:22:42 2018-02-28 17:37:56                 2018-03-02  \n",
       "99438 2017-08-28 20:52:26 2017-09-21 11:24:17                 2017-09-27  \n",
       "99439 2018-01-12 15:35:03 2018-01-25 23:32:54                 2018-02-15  \n",
       "99440 2018-03-09 22:11:59 2018-03-16 13:08:30                 2018-04-03  \n",
       "\n",
       "[96455 rows x 8 columns]"
      ]
     },
     "metadata": {},
     "execution_count": 18
    }
   ],
   "metadata": {}
  },
  {
   "cell_type": "markdown",
   "source": [
    "> ### Exportando para clean_orders_dataset.csv"
   ],
   "metadata": {}
  },
  {
   "cell_type": "code",
   "execution_count": 19,
   "source": [
    "df_pedidos.to_csv(r'../data/clean_orders_dataset.csv', index = False, header=True)"
   ],
   "outputs": [],
   "metadata": {}
  }
 ],
 "metadata": {
  "kernelspec": {
   "name": "python3",
   "display_name": "Python 3.8.10 64-bit ('venv': venv)"
  },
  "language_info": {
   "codemirror_mode": {
    "name": "ipython",
    "version": 3
   },
   "file_extension": ".py",
   "mimetype": "text/x-python",
   "name": "python",
   "nbconvert_exporter": "python",
   "pygments_lexer": "ipython3",
   "version": "3.8.10"
  },
  "interpreter": {
   "hash": "5ea29454916ba2e2642f49ea2d6158fe020dc45c08ff5ad13b5bb87d89e2adbc"
  }
 },
 "nbformat": 4,
 "nbformat_minor": 5
}