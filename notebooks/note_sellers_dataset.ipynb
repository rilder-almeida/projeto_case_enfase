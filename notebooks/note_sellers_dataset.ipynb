{
 "cells": [
  {
   "cell_type": "markdown",
   "source": [
    "> ### Importando packages"
   ],
   "metadata": {}
  },
  {
   "cell_type": "code",
   "execution_count": 4,
   "source": [
    "# import sys\n",
    "# !{sys.executable} -m pip install pandas\n",
    "# !{sys.executable} -m pip install pandera"
   ],
   "outputs": [],
   "metadata": {}
  },
  {
   "cell_type": "code",
   "execution_count": 5,
   "source": [
    "import pandas as pd\n",
    "import pandera as pa # A Statistical Data Validation Toolkit for Pandas"
   ],
   "outputs": [],
   "metadata": {}
  },
  {
   "cell_type": "markdown",
   "source": [
    "> ### Lendo sellers_dataset.csv"
   ],
   "metadata": {}
  },
  {
   "cell_type": "code",
   "execution_count": 6,
   "source": [
    "usable_cols = ['seller_id', 'seller_city', 'seller_state'] # selecionando colunas 'usáveis'\n",
    "df_vendedores = pd.read_csv(\"../data/sellers_dataset.csv\", usecols=usable_cols)\n",
    "df_vendedores.rename(columns={\"seller_id\":\"id_vendedor\", \"seller_city\":\"cidade_vendedor\", \"seller_state\":\"estado_vendedor\"}, inplace=True) # renomeando para português"
   ],
   "outputs": [],
   "metadata": {}
  },
  {
   "cell_type": "markdown",
   "source": [
    "> ### Buscando inconsistências sellers_dataset.csv"
   ],
   "metadata": {}
  },
  {
   "cell_type": "code",
   "execution_count": 7,
   "source": [
    "df_vendedores.info(verbose=True)"
   ],
   "outputs": [
    {
     "output_type": "stream",
     "name": "stdout",
     "text": [
      "<class 'pandas.core.frame.DataFrame'>\n",
      "RangeIndex: 3095 entries, 0 to 3094\n",
      "Data columns (total 3 columns):\n",
      " #   Column           Non-Null Count  Dtype \n",
      "---  ------           --------------  ----- \n",
      " 0   id_vendedor      3095 non-null   object\n",
      " 1   cidade_vendedor  3095 non-null   object\n",
      " 2   estado_vendedor  3095 non-null   object\n",
      "dtypes: object(3)\n",
      "memory usage: 72.7+ KB\n"
     ]
    }
   ],
   "metadata": {}
  },
  {
   "cell_type": "code",
   "execution_count": 8,
   "source": [
    "assert df_vendedores.id_vendedor.count() == df_vendedores.id_vendedor.nunique() # verificando a unicidade dos ids"
   ],
   "outputs": [],
   "metadata": {}
  },
  {
   "cell_type": "code",
   "execution_count": 9,
   "source": [
    "df_vendedores.estado_vendedor.unique() # verificando a integridade dos estados"
   ],
   "outputs": [
    {
     "output_type": "execute_result",
     "data": {
      "text/plain": [
       "array(['SP', 'RJ', 'PE', 'PR', 'GO', 'SC', 'BA', 'DF', 'RS', 'MG', 'RN',\n",
       "       'MT', 'CE', 'PB', 'AC', 'ES', 'RO', 'PI', 'MS', 'SE', 'MA', 'AM',\n",
       "       'PA'], dtype=object)"
      ]
     },
     "metadata": {},
     "execution_count": 9
    }
   ],
   "metadata": {}
  },
  {
   "cell_type": "code",
   "execution_count": 10,
   "source": [
    "df_vendedores.cidade_vendedor = df_vendedores.cidade_vendedor.str.lower() # setando caixa baixa para cidades"
   ],
   "outputs": [],
   "metadata": {}
  },
  {
   "cell_type": "code",
   "execution_count": 11,
   "source": [
    "df_vendedores.isna().any() # verificando a nulidade dos dados"
   ],
   "outputs": [
    {
     "output_type": "execute_result",
     "data": {
      "text/plain": [
       "id_vendedor        False\n",
       "cidade_vendedor    False\n",
       "estado_vendedor    False\n",
       "dtype: bool"
      ]
     },
     "metadata": {},
     "execution_count": 11
    }
   ],
   "metadata": {}
  },
  {
   "cell_type": "markdown",
   "source": [
    "> ### Trabalhando a tipagem dos dados sellers_dataset.csv"
   ],
   "metadata": {}
  },
  {
   "cell_type": "code",
   "execution_count": 12,
   "source": [
    "df_vendedores = df_vendedores.astype(str) # settando tipo string para colunas"
   ],
   "outputs": [],
   "metadata": {}
  },
  {
   "cell_type": "code",
   "execution_count": 13,
   "source": [
    "df_vendedores.dtypes"
   ],
   "outputs": [
    {
     "output_type": "execute_result",
     "data": {
      "text/plain": [
       "id_vendedor        object\n",
       "cidade_vendedor    object\n",
       "estado_vendedor    object\n",
       "dtype: object"
      ]
     },
     "metadata": {},
     "execution_count": 13
    }
   ],
   "metadata": {}
  },
  {
   "cell_type": "code",
   "execution_count": 14,
   "source": [
    "# criando schema de validação com pandera\n",
    "schema_vendedores = pa.DataFrameSchema(\n",
    "    columns={\n",
    "        \"id_vendedor\": pa.Column(pa.String, nullable=False, required=True),\n",
    "        \"cidade_vendedor\": pa.Column(pa.String, nullable=False, required=True),\n",
    "        \"estado_vendedor\": pa.Column(pa.String, nullable=False, required=True, checks=[pa.Check.str_length(2,2)]),        \n",
    "    },\n",
    ")"
   ],
   "outputs": [],
   "metadata": {}
  },
  {
   "cell_type": "code",
   "execution_count": 15,
   "source": [
    "schema_vendedores.validate(df_vendedores) # validando schema_vendedores"
   ],
   "outputs": [
    {
     "output_type": "execute_result",
     "data": {
      "text/html": [
       "<div>\n",
       "<style scoped>\n",
       "    .dataframe tbody tr th:only-of-type {\n",
       "        vertical-align: middle;\n",
       "    }\n",
       "\n",
       "    .dataframe tbody tr th {\n",
       "        vertical-align: top;\n",
       "    }\n",
       "\n",
       "    .dataframe thead th {\n",
       "        text-align: right;\n",
       "    }\n",
       "</style>\n",
       "<table border=\"1\" class=\"dataframe\">\n",
       "  <thead>\n",
       "    <tr style=\"text-align: right;\">\n",
       "      <th></th>\n",
       "      <th>id_vendedor</th>\n",
       "      <th>cidade_vendedor</th>\n",
       "      <th>estado_vendedor</th>\n",
       "    </tr>\n",
       "  </thead>\n",
       "  <tbody>\n",
       "    <tr>\n",
       "      <th>0</th>\n",
       "      <td>3442f8959a84dea7ee197c632cb2df15</td>\n",
       "      <td>campinas</td>\n",
       "      <td>SP</td>\n",
       "    </tr>\n",
       "    <tr>\n",
       "      <th>1</th>\n",
       "      <td>d1b65fc7debc3361ea86b5f14c68d2e2</td>\n",
       "      <td>mogi guacu</td>\n",
       "      <td>SP</td>\n",
       "    </tr>\n",
       "    <tr>\n",
       "      <th>2</th>\n",
       "      <td>ce3ad9de960102d0677a81f5d0bb7b2d</td>\n",
       "      <td>rio de janeiro</td>\n",
       "      <td>RJ</td>\n",
       "    </tr>\n",
       "    <tr>\n",
       "      <th>3</th>\n",
       "      <td>c0f3eea2e14555b6faeea3dd58c1b1c3</td>\n",
       "      <td>sao paulo</td>\n",
       "      <td>SP</td>\n",
       "    </tr>\n",
       "    <tr>\n",
       "      <th>4</th>\n",
       "      <td>51a04a8a6bdcb23deccc82b0b80742cf</td>\n",
       "      <td>braganca paulista</td>\n",
       "      <td>SP</td>\n",
       "    </tr>\n",
       "    <tr>\n",
       "      <th>...</th>\n",
       "      <td>...</td>\n",
       "      <td>...</td>\n",
       "      <td>...</td>\n",
       "    </tr>\n",
       "    <tr>\n",
       "      <th>3090</th>\n",
       "      <td>98dddbc4601dd4443ca174359b237166</td>\n",
       "      <td>sarandi</td>\n",
       "      <td>PR</td>\n",
       "    </tr>\n",
       "    <tr>\n",
       "      <th>3091</th>\n",
       "      <td>f8201cab383e484733266d1906e2fdfa</td>\n",
       "      <td>palhoca</td>\n",
       "      <td>SC</td>\n",
       "    </tr>\n",
       "    <tr>\n",
       "      <th>3092</th>\n",
       "      <td>74871d19219c7d518d0090283e03c137</td>\n",
       "      <td>sao paulo</td>\n",
       "      <td>SP</td>\n",
       "    </tr>\n",
       "    <tr>\n",
       "      <th>3093</th>\n",
       "      <td>e603cf3fec55f8697c9059638d6c8eb5</td>\n",
       "      <td>pelotas</td>\n",
       "      <td>RS</td>\n",
       "    </tr>\n",
       "    <tr>\n",
       "      <th>3094</th>\n",
       "      <td>9e25199f6ef7e7c347120ff175652c3b</td>\n",
       "      <td>taubate</td>\n",
       "      <td>SP</td>\n",
       "    </tr>\n",
       "  </tbody>\n",
       "</table>\n",
       "<p>3095 rows × 3 columns</p>\n",
       "</div>"
      ],
      "text/plain": [
       "                           id_vendedor    cidade_vendedor estado_vendedor\n",
       "0     3442f8959a84dea7ee197c632cb2df15           campinas              SP\n",
       "1     d1b65fc7debc3361ea86b5f14c68d2e2         mogi guacu              SP\n",
       "2     ce3ad9de960102d0677a81f5d0bb7b2d     rio de janeiro              RJ\n",
       "3     c0f3eea2e14555b6faeea3dd58c1b1c3          sao paulo              SP\n",
       "4     51a04a8a6bdcb23deccc82b0b80742cf  braganca paulista              SP\n",
       "...                                ...                ...             ...\n",
       "3090  98dddbc4601dd4443ca174359b237166            sarandi              PR\n",
       "3091  f8201cab383e484733266d1906e2fdfa            palhoca              SC\n",
       "3092  74871d19219c7d518d0090283e03c137          sao paulo              SP\n",
       "3093  e603cf3fec55f8697c9059638d6c8eb5            pelotas              RS\n",
       "3094  9e25199f6ef7e7c347120ff175652c3b            taubate              SP\n",
       "\n",
       "[3095 rows x 3 columns]"
      ]
     },
     "metadata": {},
     "execution_count": 15
    }
   ],
   "metadata": {}
  },
  {
   "cell_type": "markdown",
   "source": [
    "> ### Exportando para clean_sellers_dataset.csv"
   ],
   "metadata": {}
  },
  {
   "cell_type": "code",
   "execution_count": 16,
   "source": [
    "df_vendedores.to_csv(r'../data/clean_sellers_dataset.csv', index = False, header=True)"
   ],
   "outputs": [],
   "metadata": {}
  }
 ],
 "metadata": {
  "kernelspec": {
   "name": "python3",
   "display_name": "Python 3.8.10 64-bit ('venv': venv)"
  },
  "language_info": {
   "codemirror_mode": {
    "name": "ipython",
    "version": 3
   },
   "file_extension": ".py",
   "mimetype": "text/x-python",
   "name": "python",
   "nbconvert_exporter": "python",
   "pygments_lexer": "ipython3",
   "version": "3.8.10"
  },
  "interpreter": {
   "hash": "5ea29454916ba2e2642f49ea2d6158fe020dc45c08ff5ad13b5bb87d89e2adbc"
  }
 },
 "nbformat": 4,
 "nbformat_minor": 5
}