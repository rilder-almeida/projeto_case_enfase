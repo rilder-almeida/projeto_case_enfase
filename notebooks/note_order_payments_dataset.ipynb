{
 "cells": [
  {
   "cell_type": "markdown",
   "source": [
    "> ### Importando packages"
   ],
   "metadata": {}
  },
  {
   "cell_type": "code",
   "execution_count": 1,
   "source": [
    "# import sys\n",
    "# !{sys.executable} -m pip install pandas\n",
    "# !{sys.executable} -m pip install pandera"
   ],
   "outputs": [],
   "metadata": {}
  },
  {
   "cell_type": "code",
   "execution_count": 2,
   "source": [
    "import pandas as pd\n",
    "import pandera as pa # A Statistical Data Validation Toolkit for Pandas"
   ],
   "outputs": [],
   "metadata": {}
  },
  {
   "cell_type": "markdown",
   "source": [
    "> ### Lendo order_payments_dataset.cvs"
   ],
   "metadata": {}
  },
  {
   "cell_type": "code",
   "execution_count": 3,
   "source": [
    "df_pagamentos = pd.read_csv(\"../data/order_payments_dataset.csv\")\n",
    "df_pagamentos.rename(columns={'order_id':'id_pedido', 'payment_sequential':'sequencia_pagamento', 'payment_type':'tipo_pagamento', 'payment_installments':'parcelas', 'payment_value':'valor_pagamento'}, inplace=True) # renomeando para português"
   ],
   "outputs": [],
   "metadata": {}
  },
  {
   "cell_type": "markdown",
   "source": [
    "> ### Buscando inconsistências order_payments_dataset.cvs"
   ],
   "metadata": {}
  },
  {
   "cell_type": "code",
   "execution_count": 4,
   "source": [
    "df_pagamentos.info(verbose=True)"
   ],
   "outputs": [
    {
     "output_type": "stream",
     "name": "stdout",
     "text": [
      "<class 'pandas.core.frame.DataFrame'>\n",
      "RangeIndex: 103886 entries, 0 to 103885\n",
      "Data columns (total 5 columns):\n",
      " #   Column               Non-Null Count   Dtype  \n",
      "---  ------               --------------   -----  \n",
      " 0   id_pedido            103886 non-null  object \n",
      " 1   sequencia_pagamento  103886 non-null  int64  \n",
      " 2   tipo_pagamento       103886 non-null  object \n",
      " 3   parcelas             103886 non-null  int64  \n",
      " 4   valor_pagamento      103886 non-null  float64\n",
      "dtypes: float64(1), int64(2), object(2)\n",
      "memory usage: 4.0+ MB\n"
     ]
    }
   ],
   "metadata": {}
  },
  {
   "cell_type": "code",
   "execution_count": 5,
   "source": [
    "df_pagamentos.loc[df_pagamentos.duplicated() == True, ['id_pedido']]"
   ],
   "outputs": [
    {
     "output_type": "execute_result",
     "data": {
      "text/html": [
       "<div>\n",
       "<style scoped>\n",
       "    .dataframe tbody tr th:only-of-type {\n",
       "        vertical-align: middle;\n",
       "    }\n",
       "\n",
       "    .dataframe tbody tr th {\n",
       "        vertical-align: top;\n",
       "    }\n",
       "\n",
       "    .dataframe thead th {\n",
       "        text-align: right;\n",
       "    }\n",
       "</style>\n",
       "<table border=\"1\" class=\"dataframe\">\n",
       "  <thead>\n",
       "    <tr style=\"text-align: right;\">\n",
       "      <th></th>\n",
       "      <th>id_pedido</th>\n",
       "    </tr>\n",
       "  </thead>\n",
       "  <tbody>\n",
       "  </tbody>\n",
       "</table>\n",
       "</div>"
      ],
      "text/plain": [
       "Empty DataFrame\n",
       "Columns: [id_pedido]\n",
       "Index: []"
      ]
     },
     "metadata": {},
     "execution_count": 5
    }
   ],
   "metadata": {}
  },
  {
   "cell_type": "code",
   "execution_count": 6,
   "source": [
    "df_pagamentos.tipo_pagamento = df_pagamentos.tipo_pagamento.str.lower() # setando caixa baixa para cidades"
   ],
   "outputs": [],
   "metadata": {}
  },
  {
   "cell_type": "code",
   "execution_count": 7,
   "source": [
    "df_pagamentos.isna().any() # verificando a nulidade dos dados"
   ],
   "outputs": [
    {
     "output_type": "execute_result",
     "data": {
      "text/plain": [
       "id_pedido              False\n",
       "sequencia_pagamento    False\n",
       "tipo_pagamento         False\n",
       "parcelas               False\n",
       "valor_pagamento        False\n",
       "dtype: bool"
      ]
     },
     "metadata": {},
     "execution_count": 7
    }
   ],
   "metadata": {}
  },
  {
   "cell_type": "markdown",
   "source": [
    "> ### Trabalhando a tipagem dos dados order_payments_dataset.cvs"
   ],
   "metadata": {}
  },
  {
   "cell_type": "code",
   "execution_count": 8,
   "source": [
    "df_pagamentos.dtypes"
   ],
   "outputs": [
    {
     "output_type": "execute_result",
     "data": {
      "text/plain": [
       "id_pedido               object\n",
       "sequencia_pagamento      int64\n",
       "tipo_pagamento          object\n",
       "parcelas                 int64\n",
       "valor_pagamento        float64\n",
       "dtype: object"
      ]
     },
     "metadata": {},
     "execution_count": 8
    }
   ],
   "metadata": {}
  },
  {
   "cell_type": "code",
   "execution_count": 9,
   "source": [
    "df_pagamentos.tipo_pagamento.unique()"
   ],
   "outputs": [
    {
     "output_type": "execute_result",
     "data": {
      "text/plain": [
       "array(['credit_card', 'boleto', 'voucher', 'debit_card', 'not_defined'],\n",
       "      dtype=object)"
      ]
     },
     "metadata": {},
     "execution_count": 9
    }
   ],
   "metadata": {}
  },
  {
   "cell_type": "code",
   "execution_count": 10,
   "source": [
    "df_pagamentos.replace(['not_defined'], pd.NA, inplace=True)\n",
    "df_pagamentos.dropna(inplace=True)"
   ],
   "outputs": [],
   "metadata": {}
  },
  {
   "cell_type": "code",
   "execution_count": 11,
   "source": [
    "# criando schema de validação com pandera\n",
    "schema_pagamentos = pa.DataFrameSchema(\n",
    "    columns={\n",
    "        \"id_pedido\": pa.Column(pa.String, nullable=False, required=True),\n",
    "        \"sequencia_pagamento\": pa.Column(pa.Int, pa.Check.greater_than_or_equal_to(0), nullable=False, required=True),\n",
    "        \"tipo_pagamento\": pa.Column(pa.String, pa.Check.isin(['credit_card', 'boleto', 'voucher', 'debit_card']), nullable=False, required=True),\n",
    "        \"parcelas\": pa.Column(pa.Int, pa.Check.greater_than_or_equal_to(0), nullable=False, required=True),\n",
    "        \"valor_pagamento\": pa.Column(pa.Float, pa.Check.greater_than_or_equal_to(0), nullable=False, required=True),        \n",
    "    },\n",
    ")"
   ],
   "outputs": [],
   "metadata": {}
  },
  {
   "cell_type": "code",
   "execution_count": 12,
   "source": [
    "schema_pagamentos.validate(df_pagamentos) # validando schema_vendedores"
   ],
   "outputs": [
    {
     "output_type": "execute_result",
     "data": {
      "text/html": [
       "<div>\n",
       "<style scoped>\n",
       "    .dataframe tbody tr th:only-of-type {\n",
       "        vertical-align: middle;\n",
       "    }\n",
       "\n",
       "    .dataframe tbody tr th {\n",
       "        vertical-align: top;\n",
       "    }\n",
       "\n",
       "    .dataframe thead th {\n",
       "        text-align: right;\n",
       "    }\n",
       "</style>\n",
       "<table border=\"1\" class=\"dataframe\">\n",
       "  <thead>\n",
       "    <tr style=\"text-align: right;\">\n",
       "      <th></th>\n",
       "      <th>id_pedido</th>\n",
       "      <th>sequencia_pagamento</th>\n",
       "      <th>tipo_pagamento</th>\n",
       "      <th>parcelas</th>\n",
       "      <th>valor_pagamento</th>\n",
       "    </tr>\n",
       "  </thead>\n",
       "  <tbody>\n",
       "    <tr>\n",
       "      <th>0</th>\n",
       "      <td>b81ef226f3fe1789b1e8b2acac839d17</td>\n",
       "      <td>1</td>\n",
       "      <td>credit_card</td>\n",
       "      <td>8</td>\n",
       "      <td>99.33</td>\n",
       "    </tr>\n",
       "    <tr>\n",
       "      <th>1</th>\n",
       "      <td>a9810da82917af2d9aefd1278f1dcfa0</td>\n",
       "      <td>1</td>\n",
       "      <td>credit_card</td>\n",
       "      <td>1</td>\n",
       "      <td>24.39</td>\n",
       "    </tr>\n",
       "    <tr>\n",
       "      <th>2</th>\n",
       "      <td>25e8ea4e93396b6fa0d3dd708e76c1bd</td>\n",
       "      <td>1</td>\n",
       "      <td>credit_card</td>\n",
       "      <td>1</td>\n",
       "      <td>65.71</td>\n",
       "    </tr>\n",
       "    <tr>\n",
       "      <th>3</th>\n",
       "      <td>ba78997921bbcdc1373bb41e913ab953</td>\n",
       "      <td>1</td>\n",
       "      <td>credit_card</td>\n",
       "      <td>8</td>\n",
       "      <td>107.78</td>\n",
       "    </tr>\n",
       "    <tr>\n",
       "      <th>4</th>\n",
       "      <td>42fdf880ba16b47b59251dd489d4441a</td>\n",
       "      <td>1</td>\n",
       "      <td>credit_card</td>\n",
       "      <td>2</td>\n",
       "      <td>128.45</td>\n",
       "    </tr>\n",
       "    <tr>\n",
       "      <th>...</th>\n",
       "      <td>...</td>\n",
       "      <td>...</td>\n",
       "      <td>...</td>\n",
       "      <td>...</td>\n",
       "      <td>...</td>\n",
       "    </tr>\n",
       "    <tr>\n",
       "      <th>103881</th>\n",
       "      <td>0406037ad97740d563a178ecc7a2075c</td>\n",
       "      <td>1</td>\n",
       "      <td>boleto</td>\n",
       "      <td>1</td>\n",
       "      <td>363.31</td>\n",
       "    </tr>\n",
       "    <tr>\n",
       "      <th>103882</th>\n",
       "      <td>7b905861d7c825891d6347454ea7863f</td>\n",
       "      <td>1</td>\n",
       "      <td>credit_card</td>\n",
       "      <td>2</td>\n",
       "      <td>96.80</td>\n",
       "    </tr>\n",
       "    <tr>\n",
       "      <th>103883</th>\n",
       "      <td>32609bbb3dd69b3c066a6860554a77bf</td>\n",
       "      <td>1</td>\n",
       "      <td>credit_card</td>\n",
       "      <td>1</td>\n",
       "      <td>47.77</td>\n",
       "    </tr>\n",
       "    <tr>\n",
       "      <th>103884</th>\n",
       "      <td>b8b61059626efa996a60be9bb9320e10</td>\n",
       "      <td>1</td>\n",
       "      <td>credit_card</td>\n",
       "      <td>5</td>\n",
       "      <td>369.54</td>\n",
       "    </tr>\n",
       "    <tr>\n",
       "      <th>103885</th>\n",
       "      <td>28bbae6599b09d39ca406b747b6632b1</td>\n",
       "      <td>1</td>\n",
       "      <td>boleto</td>\n",
       "      <td>1</td>\n",
       "      <td>191.58</td>\n",
       "    </tr>\n",
       "  </tbody>\n",
       "</table>\n",
       "<p>103883 rows × 5 columns</p>\n",
       "</div>"
      ],
      "text/plain": [
       "                               id_pedido  sequencia_pagamento tipo_pagamento  \\\n",
       "0       b81ef226f3fe1789b1e8b2acac839d17                    1    credit_card   \n",
       "1       a9810da82917af2d9aefd1278f1dcfa0                    1    credit_card   \n",
       "2       25e8ea4e93396b6fa0d3dd708e76c1bd                    1    credit_card   \n",
       "3       ba78997921bbcdc1373bb41e913ab953                    1    credit_card   \n",
       "4       42fdf880ba16b47b59251dd489d4441a                    1    credit_card   \n",
       "...                                  ...                  ...            ...   \n",
       "103881  0406037ad97740d563a178ecc7a2075c                    1         boleto   \n",
       "103882  7b905861d7c825891d6347454ea7863f                    1    credit_card   \n",
       "103883  32609bbb3dd69b3c066a6860554a77bf                    1    credit_card   \n",
       "103884  b8b61059626efa996a60be9bb9320e10                    1    credit_card   \n",
       "103885  28bbae6599b09d39ca406b747b6632b1                    1         boleto   \n",
       "\n",
       "        parcelas  valor_pagamento  \n",
       "0              8            99.33  \n",
       "1              1            24.39  \n",
       "2              1            65.71  \n",
       "3              8           107.78  \n",
       "4              2           128.45  \n",
       "...          ...              ...  \n",
       "103881         1           363.31  \n",
       "103882         2            96.80  \n",
       "103883         1            47.77  \n",
       "103884         5           369.54  \n",
       "103885         1           191.58  \n",
       "\n",
       "[103883 rows x 5 columns]"
      ]
     },
     "metadata": {},
     "execution_count": 12
    }
   ],
   "metadata": {}
  },
  {
   "cell_type": "markdown",
   "source": [
    "> ### Exportando para clean_order_payments_dataset.cvs"
   ],
   "metadata": {}
  },
  {
   "cell_type": "code",
   "execution_count": 13,
   "source": [
    "df_pagamentos.to_csv(r'../data/clean_order_payments_dataset.csv', index = False, header=True)"
   ],
   "outputs": [],
   "metadata": {}
  }
 ],
 "metadata": {
  "kernelspec": {
   "name": "python3",
   "display_name": "Python 3.8.10 64-bit ('venv': venv)"
  },
  "language_info": {
   "codemirror_mode": {
    "name": "ipython",
    "version": 3
   },
   "file_extension": ".py",
   "mimetype": "text/x-python",
   "name": "python",
   "nbconvert_exporter": "python",
   "pygments_lexer": "ipython3",
   "version": "3.8.10"
  },
  "interpreter": {
   "hash": "5ea29454916ba2e2642f49ea2d6158fe020dc45c08ff5ad13b5bb87d89e2adbc"
  }
 },
 "nbformat": 4,
 "nbformat_minor": 5
}