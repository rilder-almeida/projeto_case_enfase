{
 "cells": [
  {
   "cell_type": "markdown",
   "source": [
    "> ### Importando packages"
   ],
   "metadata": {}
  },
  {
   "cell_type": "code",
   "execution_count": 3,
   "source": [
    "# import sys\n",
    "# !{sys.executable} -m pip install pandas\n",
    "# !{sys.executable} -m pip install pandera\n",
    "# !{sys.executable} -m pip install numpy"
   ],
   "outputs": [],
   "metadata": {}
  },
  {
   "cell_type": "code",
   "execution_count": 4,
   "source": [
    "import pandas as pd\n",
    "import pandera as pa # A Statistical Data Validation Toolkit for Pandas\n",
    "import numpy as np"
   ],
   "outputs": [
    {
     "output_type": "error",
     "ename": "ModuleNotFoundError",
     "evalue": "No module named 'pandas'",
     "traceback": [
      "\u001b[0;31m---------------------------------------------------------------------------\u001b[0m",
      "\u001b[0;31mModuleNotFoundError\u001b[0m                       Traceback (most recent call last)",
      "\u001b[0;32m/tmp/ipykernel_111463/718833420.py\u001b[0m in \u001b[0;36m<module>\u001b[0;34m\u001b[0m\n\u001b[0;32m----> 1\u001b[0;31m \u001b[0;32mimport\u001b[0m \u001b[0mpandas\u001b[0m \u001b[0;32mas\u001b[0m \u001b[0mpd\u001b[0m\u001b[0;34m\u001b[0m\u001b[0;34m\u001b[0m\u001b[0m\n\u001b[0m\u001b[1;32m      2\u001b[0m \u001b[0;32mimport\u001b[0m \u001b[0mpandera\u001b[0m \u001b[0;32mas\u001b[0m \u001b[0mpa\u001b[0m \u001b[0;31m# A Statistical Data Validation Toolkit for Pandas\u001b[0m\u001b[0;34m\u001b[0m\u001b[0;34m\u001b[0m\u001b[0m\n\u001b[1;32m      3\u001b[0m \u001b[0;32mimport\u001b[0m \u001b[0mnumpy\u001b[0m \u001b[0;32mas\u001b[0m \u001b[0mnp\u001b[0m\u001b[0;34m\u001b[0m\u001b[0;34m\u001b[0m\u001b[0m\n",
      "\u001b[0;31mModuleNotFoundError\u001b[0m: No module named 'pandas'"
     ]
    }
   ],
   "metadata": {}
  },
  {
   "cell_type": "markdown",
   "source": [
    "> ### Lendo todos os dataset"
   ],
   "metadata": {}
  },
  {
   "cell_type": "code",
   "execution_count": null,
   "source": [
    "df_clientes = pd.read_csv(\"./data/clean_customers_dataset.csv\")\n",
    "df_vendedores = pd.read_csv(\"./data/clean_sellers_dataset.csv\")\n",
    "df_itens_pedidos = pd.read_csv(\"./data/clean_order_items_dataset.csv\")\n",
    "df_pedidos = pd.read_csv('./data/clean_orders_dataset.csv')"
   ],
   "outputs": [],
   "metadata": {}
  },
  {
   "cell_type": "markdown",
   "source": [
    "> ### Fundindo datasets"
   ],
   "metadata": {}
  },
  {
   "cell_type": "code",
   "execution_count": null,
   "source": [
    "df_logistica = pd.merge(df_pedidos, df_clientes, on='id_cliente', how='left')"
   ],
   "outputs": [],
   "metadata": {}
  },
  {
   "cell_type": "code",
   "execution_count": null,
   "source": [
    "df_logistica = pd.merge(df_logistica, df_itens_pedidos)"
   ],
   "outputs": [],
   "metadata": {}
  },
  {
   "cell_type": "code",
   "execution_count": null,
   "source": [
    "df_logistica = pd.merge(df_logistica, df_vendedores, on='id_vendedor')"
   ],
   "outputs": [],
   "metadata": {}
  },
  {
   "cell_type": "code",
   "execution_count": null,
   "source": [
    "assert df_pedidos.id_pedido.count() == df_logistica.id_pedido.count() # aferindo unicidade do dados iniciais"
   ],
   "outputs": [],
   "metadata": {}
  },
  {
   "cell_type": "markdown",
   "source": [
    "> ### Tratando as colunas de datas"
   ],
   "metadata": {}
  },
  {
   "cell_type": "code",
   "execution_count": null,
   "source": [
    "df_logistica.dtypes"
   ],
   "outputs": [
    {
     "output_type": "execute_result",
     "data": {
      "text/plain": [
       "id_pedido                      object\n",
       "id_cliente                     object\n",
       "status_pedido                  object\n",
       "data_hora_compra               object\n",
       "data_hora_aprovacao            object\n",
       "data_hora_envio                object\n",
       "data_hora_entrega              object\n",
       "data_hora_previsao_entrega     object\n",
       "cidade_cliente                 object\n",
       "estado_cliente                 object\n",
       "quantidade_itens                int64\n",
       "id_produto                     object\n",
       "id_vendedor                    object\n",
       "data_limite_envio              object\n",
       "preco_unitario                float64\n",
       "valor_frete                   float64\n",
       "cidade_vendedor                object\n",
       "estado_vendedor                object\n",
       "dtype: object"
      ]
     },
     "metadata": {},
     "execution_count": 8
    }
   ],
   "metadata": {}
  },
  {
   "cell_type": "code",
   "execution_count": null,
   "source": [
    "# convertendo datas de string para datetime\n",
    "df_logistica['data_hora_compra'] = pd.to_datetime(df_logistica['data_hora_compra'], format='%Y-%m-%d %H:%M:%S')\n",
    "df_logistica['data_hora_aprovacao'] = pd.to_datetime(df_logistica['data_hora_aprovacao'], format='%Y-%m-%d %H:%M:%S')\n",
    "df_logistica['data_hora_envio'] = pd.to_datetime(df_logistica['data_hora_envio'], format='%Y-%m-%d %H:%M:%S')\n",
    "df_logistica['data_limite_envio'] = pd.to_datetime(df_logistica['data_hora_previsao_entrega'], format='%Y-%m-%d %H:%M:%S')\n",
    "df_logistica['data_hora_entrega'] = pd.to_datetime(df_logistica['data_hora_entrega'], format='%Y-%m-%d %H:%M:%S')\n",
    "df_logistica['data_hora_previsao_entrega'] = pd.to_datetime(df_logistica['data_hora_previsao_entrega'], format='%Y-%m-%d %H:%M:%S')"
   ],
   "outputs": [],
   "metadata": {}
  },
  {
   "cell_type": "markdown",
   "source": [
    "> ### Acrecentando colunas"
   ],
   "metadata": {}
  },
  {
   "cell_type": "code",
   "execution_count": null,
   "source": [
    "capitais = [\"rio branco\", \"macapa\", \"manaus\", \"belem\", \"porto velho\", \"boa vista\", \"palmas\", \"macieo\", \"salvador\", \"fortaleza\", \"sao luis\", \"joao pessoa\", \"recife\", \"teresina\", \"natal\", \"aracaju\", \"goiania\", \"cuiaba\", \"campo grande\", \"brasilia\", \"vitoria\", \"belo horizonte\", \"sao paulo\", \"rio de janeiro\", \"curitiba\", \"porto Alegre\", \"florianopolis\"]\n",
    "\n",
    "# mapeando condições das regiões \n",
    "regioes_cliente = {\n",
    "    \"norte\" : df_logistica.estado_cliente.isin([\"AM\", \"RR\", \"AP\", \"PA\", \"TO\", \"RO\", \"AC\"]),\n",
    "    \"nordeste\" : df_logistica.estado_cliente.isin([\"MA\", \"PI\", \"CE\", \"RN\", \"PE\", \"PB\", \"SE\", \"AL\", \"BA\"]),\n",
    "    \"centro\" : df_logistica.estado_cliente.isin([\"MT\", \"MS\", \"GO\", \"DF\"]),\n",
    "    \"sudeste\" : df_logistica.estado_cliente.isin([\"SP\", \"RJ\", \"MG\", \"ES\"]),\n",
    "    \"sul\" : df_logistica.estado_cliente.isin([\"RS\", \"PR\", \"SC\"])\n",
    "}\n",
    "regioes_vendedor = {\n",
    "    \"norte\" : df_logistica.estado_vendedor.isin([\"AM\", \"RR\", \"AP\", \"PA\", \"TO\", \"RO\", \"AC\"]),\n",
    "    \"nordeste\" : df_logistica.estado_vendedor.isin([\"MA\", \"PI\", \"CE\", \"RN\", \"PE\", \"PB\", \"SE\", \"AL\", \"BA\"]),\n",
    "    \"centro\" : df_logistica.estado_vendedor.isin([\"MT\", \"MS\", \"GO\", \"DF\"]),\n",
    "    \"sudeste\" : df_logistica.estado_vendedor.isin([\"SP\", \"RJ\", \"MG\", \"ES\"]),\n",
    "    \"sul\" : df_logistica.estado_vendedor.isin([\"RS\", \"PR\", \"SC\"])\n",
    "}"
   ],
   "outputs": [],
   "metadata": {}
  },
  {
   "cell_type": "code",
   "execution_count": null,
   "source": [
    "# colunas referentes à duração cumprimento dos prazos de cada etapa no sistema de logística\n",
    "# ato da compra\n",
    "df_logistica['delta_compra_aprovação'] = df_logistica['data_hora_aprovacao'] - df_logistica['data_hora_compra']\n",
    "\n",
    "# da compra ao envio\n",
    "df_logistica['delta_aprovação_envio'] = df_logistica['data_hora_envio'] - df_logistica['data_hora_aprovacao']\n",
    "df_logistica['enviado_no_prazo'] = df_logistica['data_limite_envio'] > df_logistica['data_hora_envio']\n",
    "df_logistica['delta_envio_prazo'] = df_logistica['data_limite_envio'] - df_logistica['data_hora_envio']\n",
    "\n",
    "# do envio à entrega\n",
    "df_logistica['delta_envio_entrega'] = df_logistica['data_hora_entrega'] - df_logistica['data_hora_envio']\n",
    "df_logistica['entregue_no_prazo'] = df_logistica['data_hora_previsao_entrega'] > df_logistica['data_hora_entrega']\n",
    "df_logistica['delta_entrega_prazo'] = df_logistica['data_hora_previsao_entrega'] - df_logistica['data_hora_entrega']\n",
    "\n",
    "# colunas referentes ao valores totais cobrados pelo frete\n",
    "df_logistica['valor_total_frete'] = df_logistica['valor_frete'] * df_logistica['quantidade_itens']\n",
    "df_logistica['valor_total_pedido'] = df_logistica['preco_unitario'] * df_logistica['quantidade_itens']\n",
    "df_logistica['proporcao_pedido_frete'] = (df_logistica['valor_total_frete'] / df_logistica['valor_total_pedido'])\n",
    "\n",
    "# colunas referentes ao fluxo no sistema de logística\n",
    "# capital x capital, capital x interior, interior x capital, interior x interior\n",
    "df_logistica['cliente_capital'] = df_logistica.cidade_cliente.isin(capitais)\n",
    "df_logistica['vendedor_capital'] = df_logistica.cidade_vendedor.isin(capitais)\n",
    "# mesma região, fora da região\n",
    "df_logistica['regiao_cliente'] = np.select(regioes_cliente.values(), regioes_cliente.keys())\n",
    "df_logistica['regiao_vendedor'] = np.select(regioes_vendedor.values(), regioes_vendedor.keys())\n",
    "# mesmo estado, fora do estado\n"
   ],
   "outputs": [],
   "metadata": {}
  },
  {
   "cell_type": "markdown",
   "source": [
    "> ### Dropando colunas e reordenando"
   ],
   "metadata": {}
  },
  {
   "cell_type": "code",
   "execution_count": null,
   "source": [
    "df_logistica.drop(['id_cliente', 'id_vendedor', 'id_produto', 'status_pedido', 'quantidade_itens', 'preco_unitario', 'valor_frete'], axis=1, inplace = True)"
   ],
   "outputs": [],
   "metadata": {}
  },
  {
   "cell_type": "code",
   "execution_count": null,
   "source": [
    "df_logistica = df_logistica[[\"id_pedido\", \"cidade_cliente\", \"estado_cliente\", \"cliente_capital\", \"regiao_cliente\", \"cidade_vendedor\", \"estado_vendedor\", \"vendedor_capital\", \"regiao_vendedor\", \"data_hora_compra\", \"data_hora_aprovacao\", \"delta_compra_aprovação\", \"data_hora_envio\", \"delta_aprovação_envio\", \"data_limite_envio\", \"delta_envio_prazo\", \"enviado_no_prazo\", \"data_hora_entrega\", \"delta_envio_entrega\", \"data_hora_previsao_entrega\", \"delta_entrega_prazo\", \"entregue_no_prazo\", \"valor_total_frete\", \"valor_total_pedido\", \"proporcao_pedido_frete\"]]"
   ],
   "outputs": [],
   "metadata": {}
  },
  {
   "cell_type": "code",
   "execution_count": null,
   "source": [
    "df_logistica.info()"
   ],
   "outputs": [
    {
     "output_type": "stream",
     "name": "stdout",
     "text": [
      "<class 'pandas.core.frame.DataFrame'>\n",
      "Int64Index: 96455 entries, 0 to 96454\n",
      "Data columns (total 25 columns):\n",
      " #   Column                      Non-Null Count  Dtype          \n",
      "---  ------                      --------------  -----          \n",
      " 0   id_pedido                   96455 non-null  object         \n",
      " 1   cidade_cliente              96455 non-null  object         \n",
      " 2   estado_cliente              96455 non-null  object         \n",
      " 3   cliente_capital             96455 non-null  bool           \n",
      " 4   regiao_cliente              96455 non-null  object         \n",
      " 5   cidade_vendedor             96455 non-null  object         \n",
      " 6   estado_vendedor             96455 non-null  object         \n",
      " 7   vendedor_capital            96455 non-null  bool           \n",
      " 8   regiao_vendedor             96455 non-null  object         \n",
      " 9   data_hora_compra            96455 non-null  datetime64[ns] \n",
      " 10  data_hora_aprovacao         96455 non-null  datetime64[ns] \n",
      " 11  delta_compra_aprovação      96455 non-null  timedelta64[ns]\n",
      " 12  data_hora_envio             96455 non-null  datetime64[ns] \n",
      " 13  delta_aprovação_envio       96455 non-null  timedelta64[ns]\n",
      " 14  data_limite_envio           96455 non-null  datetime64[ns] \n",
      " 15  delta_envio_prazo           96455 non-null  timedelta64[ns]\n",
      " 16  enviado_no_prazo            96455 non-null  bool           \n",
      " 17  data_hora_entrega           96455 non-null  datetime64[ns] \n",
      " 18  delta_envio_entrega         96455 non-null  timedelta64[ns]\n",
      " 19  data_hora_previsao_entrega  96455 non-null  datetime64[ns] \n",
      " 20  delta_entrega_prazo         96455 non-null  timedelta64[ns]\n",
      " 21  entregue_no_prazo           96455 non-null  bool           \n",
      " 22  valor_total_frete           96455 non-null  float64        \n",
      " 23  valor_total_pedido          96455 non-null  float64        \n",
      " 24  proporcao_pedido_frete      96455 non-null  float64        \n",
      "dtypes: bool(4), datetime64[ns](6), float64(3), object(7), timedelta64[ns](5)\n",
      "memory usage: 16.6+ MB\n"
     ]
    }
   ],
   "metadata": {}
  },
  {
   "cell_type": "markdown",
   "source": [
    "> ### Exportando para clean_sellers_dataset.csv"
   ],
   "metadata": {}
  },
  {
   "cell_type": "code",
   "execution_count": null,
   "source": [
    "df_logistica.to_csv(\"./data/logistica_dataset.csv\", index = False, header=True)"
   ],
   "outputs": [],
   "metadata": {}
  }
 ],
 "metadata": {
  "kernelspec": {
   "name": "python3",
   "display_name": "Python 3.8.10 64-bit ('venv': venv)"
  },
  "language_info": {
   "codemirror_mode": {
    "name": "ipython",
    "version": 3
   },
   "file_extension": ".py",
   "mimetype": "text/x-python",
   "name": "python",
   "nbconvert_exporter": "python",
   "pygments_lexer": "ipython3",
   "version": "3.8.10"
  },
  "interpreter": {
   "hash": "5ea29454916ba2e2642f49ea2d6158fe020dc45c08ff5ad13b5bb87d89e2adbc"
  }
 },
 "nbformat": 4,
 "nbformat_minor": 5
}