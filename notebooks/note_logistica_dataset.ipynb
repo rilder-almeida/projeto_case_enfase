{
 "cells": [
  {
   "cell_type": "markdown",
   "id": "6d33a817",
   "metadata": {},
   "source": [
    "> ### Importando packages"
   ]
  },
  {
   "cell_type": "code",
   "execution_count": 1,
   "id": "94760cbb",
   "metadata": {},
   "outputs": [],
   "source": [
    "# import sys\n",
    "# !{sys.executable} -m pip install pandas\n",
    "# !{sys.executable} -m pip install pandera\n",
    "# !{sys.executable} -m pip install numpy"
   ]
  },
  {
   "cell_type": "code",
   "execution_count": 2,
   "id": "94d02189",
   "metadata": {},
   "outputs": [],
   "source": [
    "import pandas as pd\n",
    "import pandera as pa # A Statistical Data Validation Toolkit for Pandas\n",
    "import numpy as np"
   ]
  },
  {
   "cell_type": "markdown",
   "id": "cd756d2c",
   "metadata": {},
   "source": [
    "> ### Lendo todos os dataset"
   ]
  },
  {
   "cell_type": "code",
   "execution_count": 3,
   "id": "c8b50ea2",
   "metadata": {},
   "outputs": [],
   "source": [
    "df_clientes = pd.read_csv(\"./data/clean_customers_dataset.csv\")\n",
    "df_vendedores = pd.read_csv(\"./data/clean_sellers_dataset.csv\")\n",
    "df_itens_pedidos = pd.read_csv(\"./data/clean_order_items_dataset.csv\")\n",
    "df_pedidos = pd.read_csv('./data/clean_orders_dataset.csv')"
   ]
  },
  {
   "cell_type": "markdown",
   "id": "ea6dcde2",
   "metadata": {},
   "source": [
    "> ### Fundindo datasets"
   ]
  },
  {
   "cell_type": "code",
   "execution_count": 4,
   "id": "85e3c9e8",
   "metadata": {},
   "outputs": [],
   "source": [
    "df_logistica = pd.merge(df_pedidos, df_clientes, on='id_cliente', how='left')"
   ]
  },
  {
   "cell_type": "code",
   "execution_count": 5,
   "id": "da06f127",
   "metadata": {},
   "outputs": [],
   "source": [
    "df_logistica = pd.merge(df_logistica, df_itens_pedidos)"
   ]
  },
  {
   "cell_type": "code",
   "execution_count": 6,
   "id": "c5e9ecf6",
   "metadata": {},
   "outputs": [],
   "source": [
    "df_logistica = pd.merge(df_logistica, df_vendedores, on='id_vendedor')"
   ]
  },
  {
   "cell_type": "code",
   "execution_count": 7,
   "id": "24cfc8cf",
   "metadata": {},
   "outputs": [],
   "source": [
    "assert df_pedidos.id_pedido.count() == df_logistica.id_pedido.count() # aferindo unicidade do dados iniciais"
   ]
  },
  {
   "cell_type": "markdown",
   "id": "70e9c8c3",
   "metadata": {},
   "source": [
    "> ### Tratando as colunas de datas"
   ]
  },
  {
   "cell_type": "code",
   "execution_count": 8,
   "id": "46e274a3",
   "metadata": {},
   "outputs": [
    {
     "data": {
      "text/plain": [
       "id_pedido                      object\n",
       "id_cliente                     object\n",
       "status_pedido                  object\n",
       "data_hora_compra               object\n",
       "data_hora_aprovacao            object\n",
       "data_hora_envio                object\n",
       "data_hora_entrega              object\n",
       "data_hora_previsao_entrega     object\n",
       "cidade_cliente                 object\n",
       "estado_cliente                 object\n",
       "quantidade_itens                int64\n",
       "id_produto                     object\n",
       "id_vendedor                    object\n",
       "data_limite_envio              object\n",
       "preco_unitario                float64\n",
       "valor_frete                   float64\n",
       "cidade_vendedor                object\n",
       "estado_vendedor                object\n",
       "dtype: object"
      ]
     },
     "execution_count": 8,
     "metadata": {},
     "output_type": "execute_result"
    }
   ],
   "source": [
    "df_logistica.dtypes"
   ]
  },
  {
   "cell_type": "code",
   "execution_count": 9,
   "id": "d9e9c490",
   "metadata": {},
   "outputs": [],
   "source": [
    "# convertendo datas de string para datetime\n",
    "df_logistica['data_hora_compra'] = pd.to_datetime(df_logistica['data_hora_compra'], format='%Y-%m-%d %H:%M:%S')\n",
    "df_logistica['data_hora_aprovacao'] = pd.to_datetime(df_logistica['data_hora_aprovacao'], format='%Y-%m-%d %H:%M:%S')\n",
    "df_logistica['data_hora_envio'] = pd.to_datetime(df_logistica['data_hora_envio'], format='%Y-%m-%d %H:%M:%S')\n",
    "df_logistica['data_limite_envio'] = pd.to_datetime(df_logistica['data_hora_previsao_entrega'], format='%Y-%m-%d %H:%M:%S')\n",
    "df_logistica['data_hora_entrega'] = pd.to_datetime(df_logistica['data_hora_entrega'], format='%Y-%m-%d %H:%M:%S')\n",
    "df_logistica['data_hora_previsao_entrega'] = pd.to_datetime(df_logistica['data_hora_previsao_entrega'], format='%Y-%m-%d %H:%M:%S')"
   ]
  },
  {
   "cell_type": "markdown",
   "id": "6992ea80",
   "metadata": {},
   "source": [
    "> ### Acrecentando colunas"
   ]
  },
  {
   "cell_type": "code",
   "execution_count": 10,
   "id": "78a05ba1",
   "metadata": {},
   "outputs": [],
   "source": [
    "capitais = [\"rio branco\", \"macapa\", \"manaus\", \"belem\", \"porto velho\", \"boa vista\", \"palmas\", \"macieo\", \"salvador\", \"fortaleza\", \"sao luis\", \"joao pessoa\", \"recife\", \"teresina\", \"natal\", \"aracaju\", \"goiania\", \"cuiaba\", \"campo grande\", \"brasilia\", \"vitoria\", \"belo horizonte\", \"sao paulo\", \"rio de janeiro\", \"curitiba\", \"porto Alegre\", \"florianopolis\"]\n",
    "\n",
    "# mapeando condições das regiões \n",
    "regioes_cliente = {\n",
    "    \"norte\" : df_logistica.estado_cliente.isin([\"AM\", \"RR\", \"AP\", \"PA\", \"TO\", \"RO\", \"AC\"]),\n",
    "    \"nordeste\" : df_logistica.estado_cliente.isin([\"MA\", \"PI\", \"CE\", \"RN\", \"PE\", \"PB\", \"SE\", \"AL\", \"BA\"]),\n",
    "    \"centro\" : df_logistica.estado_cliente.isin([\"MT\", \"MS\", \"GO\", \"DF\"]),\n",
    "    \"sudeste\" : df_logistica.estado_cliente.isin([\"SP\", \"RJ\", \"MG\", \"ES\"]),\n",
    "    \"sul\" : df_logistica.estado_cliente.isin([\"RS\", \"PR\", \"SC\"])\n",
    "}\n",
    "regioes_vendedor = {\n",
    "    \"norte\" : df_logistica.estado_vendedor.isin([\"AM\", \"RR\", \"AP\", \"PA\", \"TO\", \"RO\", \"AC\"]),\n",
    "    \"nordeste\" : df_logistica.estado_vendedor.isin([\"MA\", \"PI\", \"CE\", \"RN\", \"PE\", \"PB\", \"SE\", \"AL\", \"BA\"]),\n",
    "    \"centro\" : df_logistica.estado_vendedor.isin([\"MT\", \"MS\", \"GO\", \"DF\"]),\n",
    "    \"sudeste\" : df_logistica.estado_vendedor.isin([\"SP\", \"RJ\", \"MG\", \"ES\"]),\n",
    "    \"sul\" : df_logistica.estado_vendedor.isin([\"RS\", \"PR\", \"SC\"])\n",
    "}"
   ]
  },
  {
   "cell_type": "code",
   "execution_count": 11,
   "id": "9ac752b8",
   "metadata": {},
   "outputs": [],
   "source": [
    "# colunas referentes à duração cumprimento dos prazos de cada etapa no sistema de logística\n",
    "# ato da compra\n",
    "df_logistica['delta_compra_aprovação'] = df_logistica['data_hora_aprovacao'] - df_logistica['data_hora_compra']\n",
    "\n",
    "# da compra ao envio\n",
    "df_logistica['delta_aprovação_envio'] = (df_logistica['data_hora_envio'] - df_logistica['data_hora_aprovacao']).dt.days\n",
    "df_logistica['enviado_no_prazo'] = df_logistica['data_limite_envio'] > df_logistica['data_hora_envio']\n",
    "df_logistica['delta_envio_prazo'] = (df_logistica['data_limite_envio'] - df_logistica['data_hora_envio']).dt.days\n",
    "\n",
    "# do envio à entrega\n",
    "df_logistica['delta_envio_entrega'] = (df_logistica['data_hora_entrega'] - df_logistica['data_hora_envio']).dt.days\n",
    "df_logistica['entregue_no_prazo'] = df_logistica['data_hora_previsao_entrega'] > df_logistica['data_hora_entrega']\n",
    "df_logistica['delta_entrega_prazo'] = (df_logistica['data_hora_previsao_entrega'] - df_logistica['data_hora_entrega']).dt.days\n",
    "\n",
    "# colunas referentes ao valores totais cobrados pelo frete\n",
    "df_logistica['valor_total_frete'] = df_logistica['valor_frete'] * df_logistica['quantidade_itens']\n",
    "df_logistica['valor_total_pedido'] = df_logistica['preco_unitario'] * df_logistica['quantidade_itens']\n",
    "df_logistica['proporcao_pedido_frete'] = (df_logistica['valor_total_frete'] / df_logistica['valor_total_pedido'])\n",
    "\n",
    "# colunas referentes ao fluxo no sistema de logística\n",
    "# capital x capital, capital x interior, interior x capital, interior x interior\n",
    "df_logistica['cliente_capital'] = df_logistica.cidade_cliente.isin(capitais)\n",
    "df_logistica['vendedor_capital'] = df_logistica.cidade_vendedor.isin(capitais)\n",
    "# região\n",
    "df_logistica['regiao_cliente'] = np.select(regioes_cliente.values(), regioes_cliente.keys())\n",
    "df_logistica['regiao_vendedor'] = np.select(regioes_vendedor.values(), regioes_vendedor.keys())\n",
    "\n",
    "# data\n",
    "df_logistica[\"data_hora_compra\"] = df_logistica[\"data_hora_compra\"].dt.strftime('%Y-%m')\n",
    "df_logistica['data_hora_aprovacao'] = df_logistica[\"data_hora_aprovacao\"].dt.strftime('%Y-%m')\n",
    "df_logistica['data_hora_envio'] = df_logistica[\"data_hora_envio\"].dt.strftime('%Y-%m')\n",
    "df_logistica['data_limite_envio'] = df_logistica[\"data_limite_envio\"].dt.strftime('%Y-%m')\n",
    "df_logistica['data_hora_entrega'] = df_logistica[\"data_hora_entrega\"].dt.strftime('%Y-%m')\n",
    "df_logistica['data_hora_previsao_entrega'] = df_logistica[\"data_hora_previsao_entrega\"].dt.strftime('%Y-%m')"
   ]
  },
  {
   "cell_type": "markdown",
   "id": "fbe77c2d",
   "metadata": {},
   "source": [
    "> ### Dropando colunas e reordenando"
   ]
  },
  {
   "cell_type": "code",
   "execution_count": 12,
   "id": "eb1cdaf7",
   "metadata": {},
   "outputs": [],
   "source": [
    "df_logistica.drop(['id_cliente', 'id_vendedor', 'id_produto', 'status_pedido', 'quantidade_itens', 'preco_unitario', 'valor_frete'], axis=1, inplace = True)"
   ]
  },
  {
   "cell_type": "code",
   "execution_count": 13,
   "id": "28a58a31",
   "metadata": {},
   "outputs": [],
   "source": [
    "df_logistica = df_logistica[[\"id_pedido\", \"cidade_cliente\", \"estado_cliente\", \"cliente_capital\", \"regiao_cliente\", \"cidade_vendedor\", \"estado_vendedor\", \"vendedor_capital\", \"regiao_vendedor\", \"data_hora_compra\", \"data_hora_aprovacao\", \"delta_compra_aprovação\", \"data_hora_envio\", \"delta_aprovação_envio\", \"data_limite_envio\", \"delta_envio_prazo\", \"enviado_no_prazo\", \"data_hora_entrega\", \"delta_envio_entrega\", \"data_hora_previsao_entrega\", \"delta_entrega_prazo\", \"entregue_no_prazo\", \"valor_total_frete\", \"valor_total_pedido\", \"proporcao_pedido_frete\"]]"
   ]
  },
  {
   "cell_type": "code",
   "execution_count": 14,
   "id": "a617b5f4",
   "metadata": {},
   "outputs": [
    {
     "name": "stdout",
     "output_type": "stream",
     "text": [
      "<class 'pandas.core.frame.DataFrame'>\n",
      "Int64Index: 96455 entries, 0 to 96454\n",
      "Data columns (total 25 columns):\n",
      " #   Column                      Non-Null Count  Dtype          \n",
      "---  ------                      --------------  -----          \n",
      " 0   id_pedido                   96455 non-null  object         \n",
      " 1   cidade_cliente              96455 non-null  object         \n",
      " 2   estado_cliente              96455 non-null  object         \n",
      " 3   cliente_capital             96455 non-null  bool           \n",
      " 4   regiao_cliente              96455 non-null  object         \n",
      " 5   cidade_vendedor             96455 non-null  object         \n",
      " 6   estado_vendedor             96455 non-null  object         \n",
      " 7   vendedor_capital            96455 non-null  bool           \n",
      " 8   regiao_vendedor             96455 non-null  object         \n",
      " 9   data_hora_compra            96455 non-null  object         \n",
      " 10  data_hora_aprovacao         96455 non-null  object         \n",
      " 11  delta_compra_aprovação      96455 non-null  timedelta64[ns]\n",
      " 12  data_hora_envio             96455 non-null  object         \n",
      " 13  delta_aprovação_envio       96455 non-null  int64          \n",
      " 14  data_limite_envio           96455 non-null  object         \n",
      " 15  delta_envio_prazo           96455 non-null  int64          \n",
      " 16  enviado_no_prazo            96455 non-null  bool           \n",
      " 17  data_hora_entrega           96455 non-null  object         \n",
      " 18  delta_envio_entrega         96455 non-null  int64          \n",
      " 19  data_hora_previsao_entrega  96455 non-null  object         \n",
      " 20  delta_entrega_prazo         96455 non-null  int64          \n",
      " 21  entregue_no_prazo           96455 non-null  bool           \n",
      " 22  valor_total_frete           96455 non-null  float64        \n",
      " 23  valor_total_pedido          96455 non-null  float64        \n",
      " 24  proporcao_pedido_frete      96455 non-null  float64        \n",
      "dtypes: bool(4), float64(3), int64(4), object(13), timedelta64[ns](1)\n",
      "memory usage: 16.6+ MB\n"
     ]
    }
   ],
   "source": [
    "df_logistica.info()"
   ]
  },
  {
   "cell_type": "markdown",
   "id": "7a1d99e2",
   "metadata": {},
   "source": [
    "> ### Exportando para clean_sellers_dataset.csv"
   ]
  },
  {
   "cell_type": "code",
   "execution_count": 15,
   "id": "ea8465fc",
   "metadata": {},
   "outputs": [
    {
     "data": {
      "text/html": [
       "<div>\n",
       "<style scoped>\n",
       "    .dataframe tbody tr th:only-of-type {\n",
       "        vertical-align: middle;\n",
       "    }\n",
       "\n",
       "    .dataframe tbody tr th {\n",
       "        vertical-align: top;\n",
       "    }\n",
       "\n",
       "    .dataframe thead th {\n",
       "        text-align: right;\n",
       "    }\n",
       "</style>\n",
       "<table border=\"1\" class=\"dataframe\">\n",
       "  <thead>\n",
       "    <tr style=\"text-align: right;\">\n",
       "      <th></th>\n",
       "      <th>id_pedido</th>\n",
       "      <th>cidade_cliente</th>\n",
       "      <th>estado_cliente</th>\n",
       "      <th>cliente_capital</th>\n",
       "      <th>regiao_cliente</th>\n",
       "      <th>cidade_vendedor</th>\n",
       "      <th>estado_vendedor</th>\n",
       "      <th>vendedor_capital</th>\n",
       "      <th>regiao_vendedor</th>\n",
       "      <th>data_hora_compra</th>\n",
       "      <th>...</th>\n",
       "      <th>delta_envio_prazo</th>\n",
       "      <th>enviado_no_prazo</th>\n",
       "      <th>data_hora_entrega</th>\n",
       "      <th>delta_envio_entrega</th>\n",
       "      <th>data_hora_previsao_entrega</th>\n",
       "      <th>delta_entrega_prazo</th>\n",
       "      <th>entregue_no_prazo</th>\n",
       "      <th>valor_total_frete</th>\n",
       "      <th>valor_total_pedido</th>\n",
       "      <th>proporcao_pedido_frete</th>\n",
       "    </tr>\n",
       "  </thead>\n",
       "  <tbody>\n",
       "    <tr>\n",
       "      <th>0</th>\n",
       "      <td>e481f51cbdc54678b7cc49136f2d6af7</td>\n",
       "      <td>sao paulo</td>\n",
       "      <td>SP</td>\n",
       "      <td>True</td>\n",
       "      <td>sudeste</td>\n",
       "      <td>maua</td>\n",
       "      <td>SP</td>\n",
       "      <td>False</td>\n",
       "      <td>sudeste</td>\n",
       "      <td>2017-10</td>\n",
       "      <td>...</td>\n",
       "      <td>13</td>\n",
       "      <td>True</td>\n",
       "      <td>2017-10</td>\n",
       "      <td>6</td>\n",
       "      <td>2017-10</td>\n",
       "      <td>7</td>\n",
       "      <td>True</td>\n",
       "      <td>8.72</td>\n",
       "      <td>29.99</td>\n",
       "      <td>0.290764</td>\n",
       "    </tr>\n",
       "    <tr>\n",
       "      <th>1</th>\n",
       "      <td>8736140c61ea584cb4250074756d8f3b</td>\n",
       "      <td>itaquaquecetuba</td>\n",
       "      <td>SP</td>\n",
       "      <td>False</td>\n",
       "      <td>sudeste</td>\n",
       "      <td>maua</td>\n",
       "      <td>SP</td>\n",
       "      <td>False</td>\n",
       "      <td>sudeste</td>\n",
       "      <td>2017-08</td>\n",
       "      <td>...</td>\n",
       "      <td>11</td>\n",
       "      <td>True</td>\n",
       "      <td>2017-08</td>\n",
       "      <td>5</td>\n",
       "      <td>2017-08</td>\n",
       "      <td>6</td>\n",
       "      <td>True</td>\n",
       "      <td>7.79</td>\n",
       "      <td>75.90</td>\n",
       "      <td>0.102635</td>\n",
       "    </tr>\n",
       "    <tr>\n",
       "      <th>2</th>\n",
       "      <td>a0151737f2f0c6c0a5fd69d45f66ceea</td>\n",
       "      <td>jaguariuna</td>\n",
       "      <td>SP</td>\n",
       "      <td>False</td>\n",
       "      <td>sudeste</td>\n",
       "      <td>maua</td>\n",
       "      <td>SP</td>\n",
       "      <td>False</td>\n",
       "      <td>sudeste</td>\n",
       "      <td>2017-07</td>\n",
       "      <td>...</td>\n",
       "      <td>11</td>\n",
       "      <td>True</td>\n",
       "      <td>2017-07</td>\n",
       "      <td>5</td>\n",
       "      <td>2017-07</td>\n",
       "      <td>6</td>\n",
       "      <td>True</td>\n",
       "      <td>7.78</td>\n",
       "      <td>44.99</td>\n",
       "      <td>0.172927</td>\n",
       "    </tr>\n",
       "    <tr>\n",
       "      <th>3</th>\n",
       "      <td>a3bf941183211246f0d42ad757cba127</td>\n",
       "      <td>osasco</td>\n",
       "      <td>SP</td>\n",
       "      <td>False</td>\n",
       "      <td>sudeste</td>\n",
       "      <td>maua</td>\n",
       "      <td>SP</td>\n",
       "      <td>False</td>\n",
       "      <td>sudeste</td>\n",
       "      <td>2017-07</td>\n",
       "      <td>...</td>\n",
       "      <td>8</td>\n",
       "      <td>True</td>\n",
       "      <td>2017-07</td>\n",
       "      <td>2</td>\n",
       "      <td>2017-08</td>\n",
       "      <td>6</td>\n",
       "      <td>True</td>\n",
       "      <td>7.78</td>\n",
       "      <td>44.99</td>\n",
       "      <td>0.172927</td>\n",
       "    </tr>\n",
       "    <tr>\n",
       "      <th>4</th>\n",
       "      <td>1462290799412b71be32dd880eaf4e1b</td>\n",
       "      <td>gravatai</td>\n",
       "      <td>RS</td>\n",
       "      <td>False</td>\n",
       "      <td>sul</td>\n",
       "      <td>maua</td>\n",
       "      <td>SP</td>\n",
       "      <td>False</td>\n",
       "      <td>sudeste</td>\n",
       "      <td>2017-08</td>\n",
       "      <td>...</td>\n",
       "      <td>22</td>\n",
       "      <td>True</td>\n",
       "      <td>2017-08</td>\n",
       "      <td>6</td>\n",
       "      <td>2017-09</td>\n",
       "      <td>16</td>\n",
       "      <td>True</td>\n",
       "      <td>14.10</td>\n",
       "      <td>29.90</td>\n",
       "      <td>0.471572</td>\n",
       "    </tr>\n",
       "  </tbody>\n",
       "</table>\n",
       "<p>5 rows × 25 columns</p>\n",
       "</div>"
      ],
      "text/plain": [
       "                          id_pedido   cidade_cliente estado_cliente  \\\n",
       "0  e481f51cbdc54678b7cc49136f2d6af7        sao paulo             SP   \n",
       "1  8736140c61ea584cb4250074756d8f3b  itaquaquecetuba             SP   \n",
       "2  a0151737f2f0c6c0a5fd69d45f66ceea       jaguariuna             SP   \n",
       "3  a3bf941183211246f0d42ad757cba127           osasco             SP   \n",
       "4  1462290799412b71be32dd880eaf4e1b         gravatai             RS   \n",
       "\n",
       "   cliente_capital regiao_cliente cidade_vendedor estado_vendedor  \\\n",
       "0             True        sudeste            maua              SP   \n",
       "1            False        sudeste            maua              SP   \n",
       "2            False        sudeste            maua              SP   \n",
       "3            False        sudeste            maua              SP   \n",
       "4            False            sul            maua              SP   \n",
       "\n",
       "   vendedor_capital regiao_vendedor data_hora_compra  ... delta_envio_prazo  \\\n",
       "0             False         sudeste          2017-10  ...                13   \n",
       "1             False         sudeste          2017-08  ...                11   \n",
       "2             False         sudeste          2017-07  ...                11   \n",
       "3             False         sudeste          2017-07  ...                 8   \n",
       "4             False         sudeste          2017-08  ...                22   \n",
       "\n",
       "  enviado_no_prazo data_hora_entrega  delta_envio_entrega  \\\n",
       "0             True           2017-10                    6   \n",
       "1             True           2017-08                    5   \n",
       "2             True           2017-07                    5   \n",
       "3             True           2017-07                    2   \n",
       "4             True           2017-08                    6   \n",
       "\n",
       "  data_hora_previsao_entrega  delta_entrega_prazo  entregue_no_prazo  \\\n",
       "0                    2017-10                    7               True   \n",
       "1                    2017-08                    6               True   \n",
       "2                    2017-07                    6               True   \n",
       "3                    2017-08                    6               True   \n",
       "4                    2017-09                   16               True   \n",
       "\n",
       "  valor_total_frete  valor_total_pedido proporcao_pedido_frete  \n",
       "0              8.72               29.99               0.290764  \n",
       "1              7.79               75.90               0.102635  \n",
       "2              7.78               44.99               0.172927  \n",
       "3              7.78               44.99               0.172927  \n",
       "4             14.10               29.90               0.471572  \n",
       "\n",
       "[5 rows x 25 columns]"
      ]
     },
     "execution_count": 15,
     "metadata": {},
     "output_type": "execute_result"
    }
   ],
   "source": [
    "df_logistica.head()"
   ]
  },
  {
   "cell_type": "code",
   "execution_count": 16,
   "id": "133bda5f",
   "metadata": {},
   "outputs": [],
   "source": [
    "df_logistica.to_csv(\"./data/logistica_dataset.csv\", index = False, header=True)"
   ]
  }
 ],
 "metadata": {
  "kernelspec": {
   "display_name": "Python 3 (ipykernel)",
   "language": "python",
   "name": "python3"
  },
  "language_info": {
   "codemirror_mode": {
    "name": "ipython",
    "version": 3
   },
   "file_extension": ".py",
   "mimetype": "text/x-python",
   "name": "python",
   "nbconvert_exporter": "python",
   "pygments_lexer": "ipython3",
   "version": "3.8.10"
  }
 },
 "nbformat": 4,
 "nbformat_minor": 5
}
